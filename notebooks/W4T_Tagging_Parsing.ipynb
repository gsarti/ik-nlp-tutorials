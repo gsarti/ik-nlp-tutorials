{
 "cells": [
  {
   "cell_type": "markdown",
   "metadata": {},
   "source": [
    "[![Open In Colab](https://colab.research.google.com/assets/colab-badge.svg)](https://colab.research.google.com/github/gsarti/ik-nlp-tutorials/blob/main/notebooks/W4T_Text_Tagging.ipynb)"
   ]
  },
  {
   "cell_type": "code",
   "execution_count": null,
   "metadata": {},
   "outputs": [],
   "source": [
    "# Run in Colab to install local packages\n",
    "!pip install spacy transformers sentencepiece thermostat-datasets\n",
    "!python -m spacy download en_core_web_sm"
   ]
  },
  {
   "cell_type": "markdown",
   "metadata": {},
   "source": [
    "# Text tagging and Dependency Parsing with spaCy\n",
    "\n",
    "In week 3 we covered some of the tagging functionalities of spaCy (namely, part-of-speech and morphological tagging). In this notebook we will extend the overview of spaCy functionalities to include named entity recognition and dependency parsing. You will then learn how to use 🤗 Transformers for span labeling tasks, and see some other interesting tagging use-cases.\n",
    "\n",
    "## Named entity recognition with spaCy\n",
    "\n",
    "*This section is based on the [spaCy documentation](https://spacy.io/usage/linguistic-features#named-entities).*\n",
    "\n",
    "spaCy features an extremely fast statistical entity recognition system, that assigns labels to contiguous spans of tokens. The default trained pipelines can identify a variety of named and numeric entities, including companies, locations, organizations and products. You can add arbitrary classes to the entity recognition system, and update the model with new examples.\n",
    "\n",
    "A named entity is a “real-world object” that’s assigned a name – for example, a person, a country, a product or a book title. spaCy can **recognize various types of named entities in a document**, by asking the model for a prediction. Because models are statistical and strongly depend on the examples they were trained on, this doesn’t always work perfectly and might need some tuning later, depending on your use case.\n",
    "\n",
    "Named entities are available as the `ents` property of a `Doc`:"
   ]
  },
  {
   "cell_type": "code",
   "execution_count": 1,
   "metadata": {
    "tags": []
   },
   "outputs": [
    {
     "name": "stdout",
     "output_type": "stream",
     "text": [
      "Token\tStart\tEnd\tType\tExplanation\n",
      "--------------------------------------------------------------------------------\n",
      "Apple\t0\t5\tORG\tCompanies, agencies, institutions, etc.\n",
      "U.K.\t27\t31\tGPE\tCountries, cities, states\n",
      "1B\t47\t49\tMONEY\tMonetary values, including unit\n"
     ]
    }
   ],
   "source": [
    "import spacy\n",
    "\n",
    "nlp = spacy.load(\"en_core_web_sm\")\n",
    "doc = nlp(\"Apple is looking at buying U.K. startup for US$1B\")\n",
    "\n",
    "def print_entities(doc):\n",
    "    print(\"Token\\tStart\\tEnd\\tType\\tExplanation\\n\" + \"-\"*80)\n",
    "    for ent in doc.ents:\n",
    "        print(\n",
    "            f\"{ent.text}\\t{ent.start_char}\\t{ent.end_char}\\t{ent.label_}\\t{spacy.explain(ent.label_)}\"\n",
    "        )\n",
    "\n",
    "print_entities(doc)"
   ]
  },
  {
   "cell_type": "code",
   "execution_count": 2,
   "metadata": {
    "tags": []
   },
   "outputs": [
    {
     "data": {
      "text/plain": [
       "'Companies, agencies, institutions, etc.'"
      ]
     },
     "execution_count": 3,
     "metadata": {},
     "output_type": "execute_result"
    }
   ],
   "source": [
    "spacy.explain(\"ORG\")"
   ]
  },
  {
   "cell_type": "markdown",
   "metadata": {},
   "source": [
    "### Accessing entity annotations and labels\n",
    "\n",
    "The standard way to access entity annotations is the `doc.ents` property, which produces a sequence of `Span` objects. The entity type is accessible either as a hash value or as a string, using the attributes `ent.label` and `ent.label_`. The `Span` object acts as a sequence of tokens, so you can iterate over the entity or index into it. You can also get the text form of the whole entity, as though it were a single token.\n",
    "\n",
    "You can also access token entity annotations using the `token.ent_iob` and `token.ent_type` attributes. `token.ent_iob` indicates whether an entity starts, continues or ends on the tag. If no entity type is set on a token, it will return an empty string.\n",
    "\n",
    "**The IOB Scheme**\n",
    "\n",
    "- I – Token is inside an entity.\n",
    "- O – Token is outside an entity (i.e. no entity tag)\n",
    "- B – Token is the beginning of an entity."
   ]
  },
  {
   "cell_type": "code",
   "execution_count": 3,
   "metadata": {
    "tags": []
   },
   "outputs": [
    {
     "name": "stdout",
     "output_type": "stream",
     "text": [
      "Token\tStart\tEnd\tType\tExplanation\n",
      "--------------------------------------------------------------------------------\n",
      "San Francisco\t0\t13\tGPE\tCountries, cities, states\n",
      "\n",
      "\n",
      "\n",
      "\n",
      "Token\tIOB Tag\tType\tExplanation\n",
      "--------------------------------------------------------------------------------\n",
      "San       \tB\tGPE\tCountries, cities, states\n",
      "Francisco \tI\tGPE\tCountries, cities, states\n",
      "considers \tO\t\tNone\n",
      "banning   \tO\t\tNone\n",
      "sidewalk  \tO\t\tNone\n",
      "delivery  \tO\t\tNone\n",
      "robots    \tO\t\tNone\n"
     ]
    }
   ],
   "source": [
    "import spacy\n",
    "\n",
    "nlp = spacy.load(\"en_core_web_sm\")\n",
    "doc = nlp(\"San Francisco considers banning sidewalk delivery robots\")\n",
    "\n",
    "# document level\n",
    "print_entities(doc)\n",
    "\n",
    "print(\"\\n\\n\\n\")\n",
    "\n",
    "# token level\n",
    "def print_token_iob(doc):\n",
    "    print(\"Token\\tIOB Tag\\tType\\tExplanation\\n\" + \"-\"*80)\n",
    "    for t in doc:\n",
    "        print(\n",
    "            f\"{t.text.ljust(10)}\\t{t.ent_iob_}\\t{t.ent_type_}\\t{spacy.explain(t.ent_type_)}\"\n",
    "        )\n",
    "\n",
    "print_token_iob(doc)"
   ]
  },
  {
   "cell_type": "markdown",
   "metadata": {},
   "source": [
    "### Visualizing named entities\n",
    "\n",
    "The [displaCy ENT visualizer](https://explosion.ai/demos/displacy-ent) lets you explore an entity recognition model’s behavior interactively. If you’re training a model, it’s very useful to run the visualization yourself. To help you do that, spaCy comes with a visualization module. You can pass a `Doc` or a list of `Doc` objects to displaCy and run `displacy.serve` to run the web server, or `displacy.render` to generate the raw markup. It works in Jupyter Notebooks!\n",
    "\n",
    "For more details and examples, see the usage [guide on visualizing spaCy](https://spacy.io/usage/visualizers)."
   ]
  },
  {
   "cell_type": "code",
   "execution_count": 4,
   "metadata": {
    "tags": []
   },
   "outputs": [
    {
     "data": {
      "text/html": [
       "<span class=\"tex2jax_ignore\"><div class=\"entities\" style=\"line-height: 2.5; direction: ltr\">When \n",
       "<mark class=\"entity\" style=\"background: #aa9cfc; padding: 0.45em 0.6em; margin: 0 0.25em; line-height: 1; border-radius: 0.35em;\">\n",
       "    Sebastian Thrun\n",
       "    <span style=\"font-size: 0.8em; font-weight: bold; line-height: 1; border-radius: 0.35em; vertical-align: middle; margin-left: 0.5rem\">PERSON</span>\n",
       "</mark>\n",
       " started working on self-driving cars at \n",
       "<mark class=\"entity\" style=\"background: #7aecec; padding: 0.45em 0.6em; margin: 0 0.25em; line-height: 1; border-radius: 0.35em;\">\n",
       "    Google\n",
       "    <span style=\"font-size: 0.8em; font-weight: bold; line-height: 1; border-radius: 0.35em; vertical-align: middle; margin-left: 0.5rem\">ORG</span>\n",
       "</mark>\n",
       " in \n",
       "<mark class=\"entity\" style=\"background: #bfe1d9; padding: 0.45em 0.6em; margin: 0 0.25em; line-height: 1; border-radius: 0.35em;\">\n",
       "    2007\n",
       "    <span style=\"font-size: 0.8em; font-weight: bold; line-height: 1; border-radius: 0.35em; vertical-align: middle; margin-left: 0.5rem\">DATE</span>\n",
       "</mark>\n",
       ", few people outside of the company took him seriously.</div></span>"
      ],
      "text/plain": [
       "<IPython.core.display.HTML object>"
      ]
     },
     "metadata": {},
     "output_type": "display_data"
    }
   ],
   "source": [
    "import spacy\n",
    "from spacy import displacy\n",
    "\n",
    "text = \"When Sebastian Thrun started working on self-driving cars at Google in 2007, few people outside of the company took him seriously.\"\n",
    "\n",
    "nlp = spacy.load(\"en_core_web_sm\")\n",
    "doc = nlp(text)\n",
    "displacy.render(doc, style=\"ent\")\n"
   ]
  },
  {
   "cell_type": "markdown",
   "metadata": {},
   "source": [
    "# Dependency parsing with spaCy\n",
    "\n",
    "*This section is based on the [spaCy documentation](https://spacy.io/usage/linguistic-features#dependency-parse).*\n",
    "\n",
    "spaCy features a fast and accurate syntactic dependency parser, and has a rich API for navigating the tree. The parser also powers the sentence boundary detection, and lets you iterate over base noun phrases, or “chunks”. You can check whether a `Doc` object has been parsed by calling `doc.has_annotation(\"DEP\")`, which checks whether the attribute `Token.dep` has been set. It returns a boolean value. If the result is `False`, the default sentence iterator will raise an exception.\n",
    "\n",
    "### Navigating the parse tree\n",
    "\n",
    "spaCy uses the terms head and child to describe the words connected by a single arc in the dependency tree. The term dep is used for the arc label, which describes the type of syntactic relation that connects the child to the head. As with other attributes, the value of `.dep` is a hash value. You can get the string value with `.dep_`.\n",
    "\n",
    "In the following, we add the fields `head.pos_` to consider the part of speech associated with the token and `children` to get the list of the immediate syntactic dependents of the token. Notice that now we are operating on single tokens, as opposed to full noun chunks as above."
   ]
  },
  {
   "cell_type": "code",
   "execution_count": 1,
   "metadata": {
    "tags": []
   },
   "outputs": [
    {
     "name": "stdout",
     "output_type": "stream",
     "text": [
      "Autonomous amod cars NOUN []\n",
      "cars nsubj shift VERB [Autonomous]\n",
      "shift ROOT shift VERB [cars, liability, toward]\n",
      "insurance compound liability NOUN []\n",
      "liability dobj shift VERB [insurance]\n",
      "toward prep shift VERB [manufacturers]\n",
      "manufacturers pobj toward ADP []\n"
     ]
    }
   ],
   "source": [
    "import spacy\n",
    "\n",
    "nlp = spacy.load(\"en_core_web_sm\")\n",
    "doc = nlp(\"Autonomous cars shift insurance liability toward manufacturers\")\n",
    "for token in doc:\n",
    "    print(token.text, token.dep_, token.head.text, token.head.pos_,\n",
    "            [child for child in token.children])"
   ]
  },
  {
   "cell_type": "markdown",
   "metadata": {},
   "source": [
    "Because the syntactic relations form a tree, every word has exactly one head. You can therefore iterate over the arcs in the tree by iterating over the words in the sentence. This is usually the best way to match an arc of interest – from below:"
   ]
  },
  {
   "cell_type": "code",
   "execution_count": 2,
   "metadata": {
    "tags": []
   },
   "outputs": [
    {
     "data": {
      "text/plain": [
       "{shift}"
      ]
     },
     "execution_count": 2,
     "metadata": {},
     "output_type": "execute_result"
    }
   ],
   "source": [
    "import spacy\n",
    "from spacy.symbols import nsubj, VERB\n",
    "\n",
    "nlp = spacy.load(\"en_core_web_sm\")\n",
    "doc = nlp(\"Autonomous cars shift insurance liability toward manufacturers\")\n",
    "\n",
    "# Finding the verb associated with the subject \"cars\"\n",
    "verbs = set()\n",
    "for possible_subject in doc:\n",
    "    if possible_subject.text == \"cars\" and possible_subject.head.pos == VERB:\n",
    "        verbs.add(possible_subject.head)\n",
    "verbs"
   ]
  },
  {
   "cell_type": "markdown",
   "metadata": {},
   "source": [
    "### Visualizing Parse Trees\n",
    "\n",
    "We can use the same `displaCy` tool from above to visualize the parse tree:"
   ]
  },
  {
   "cell_type": "code",
   "execution_count": 3,
   "metadata": {
    "tags": []
   },
   "outputs": [
    {
     "data": {
      "text/html": [
       "<span class=\"tex2jax_ignore\"><svg xmlns=\"http://www.w3.org/2000/svg\" xmlns:xlink=\"http://www.w3.org/1999/xlink\" xml:lang=\"en\" id=\"d4091bc656d4427eb80a82d4d7733fff-0\" class=\"displacy\" width=\"1275\" height=\"399.5\" direction=\"ltr\" style=\"max-width: none; height: 399.5px; color: #000000; background: #ffffff; font-family: Arial; direction: ltr\">\n",
       "<text class=\"displacy-token\" fill=\"currentColor\" text-anchor=\"middle\" y=\"309.5\">\n",
       "    <tspan class=\"displacy-word\" fill=\"currentColor\" x=\"50\">Autonomous</tspan>\n",
       "    <tspan class=\"displacy-tag\" dy=\"2em\" fill=\"currentColor\" x=\"50\">ADJ</tspan>\n",
       "</text>\n",
       "\n",
       "<text class=\"displacy-token\" fill=\"currentColor\" text-anchor=\"middle\" y=\"309.5\">\n",
       "    <tspan class=\"displacy-word\" fill=\"currentColor\" x=\"225\">cars</tspan>\n",
       "    <tspan class=\"displacy-tag\" dy=\"2em\" fill=\"currentColor\" x=\"225\">NOUN</tspan>\n",
       "</text>\n",
       "\n",
       "<text class=\"displacy-token\" fill=\"currentColor\" text-anchor=\"middle\" y=\"309.5\">\n",
       "    <tspan class=\"displacy-word\" fill=\"currentColor\" x=\"400\">shift</tspan>\n",
       "    <tspan class=\"displacy-tag\" dy=\"2em\" fill=\"currentColor\" x=\"400\">VERB</tspan>\n",
       "</text>\n",
       "\n",
       "<text class=\"displacy-token\" fill=\"currentColor\" text-anchor=\"middle\" y=\"309.5\">\n",
       "    <tspan class=\"displacy-word\" fill=\"currentColor\" x=\"575\">insurance</tspan>\n",
       "    <tspan class=\"displacy-tag\" dy=\"2em\" fill=\"currentColor\" x=\"575\">NOUN</tspan>\n",
       "</text>\n",
       "\n",
       "<text class=\"displacy-token\" fill=\"currentColor\" text-anchor=\"middle\" y=\"309.5\">\n",
       "    <tspan class=\"displacy-word\" fill=\"currentColor\" x=\"750\">liability</tspan>\n",
       "    <tspan class=\"displacy-tag\" dy=\"2em\" fill=\"currentColor\" x=\"750\">NOUN</tspan>\n",
       "</text>\n",
       "\n",
       "<text class=\"displacy-token\" fill=\"currentColor\" text-anchor=\"middle\" y=\"309.5\">\n",
       "    <tspan class=\"displacy-word\" fill=\"currentColor\" x=\"925\">toward</tspan>\n",
       "    <tspan class=\"displacy-tag\" dy=\"2em\" fill=\"currentColor\" x=\"925\">ADP</tspan>\n",
       "</text>\n",
       "\n",
       "<text class=\"displacy-token\" fill=\"currentColor\" text-anchor=\"middle\" y=\"309.5\">\n",
       "    <tspan class=\"displacy-word\" fill=\"currentColor\" x=\"1100\">manufacturers</tspan>\n",
       "    <tspan class=\"displacy-tag\" dy=\"2em\" fill=\"currentColor\" x=\"1100\">NOUN</tspan>\n",
       "</text>\n",
       "\n",
       "<g class=\"displacy-arrow\">\n",
       "    <path class=\"displacy-arc\" id=\"arrow-d4091bc656d4427eb80a82d4d7733fff-0-0\" stroke-width=\"2px\" d=\"M70,264.5 C70,177.0 215.0,177.0 215.0,264.5\" fill=\"none\" stroke=\"currentColor\"/>\n",
       "    <text dy=\"1.25em\" style=\"font-size: 0.8em; letter-spacing: 1px\">\n",
       "        <textPath xlink:href=\"#arrow-d4091bc656d4427eb80a82d4d7733fff-0-0\" class=\"displacy-label\" startOffset=\"50%\" side=\"left\" fill=\"currentColor\" text-anchor=\"middle\">amod</textPath>\n",
       "    </text>\n",
       "    <path class=\"displacy-arrowhead\" d=\"M70,266.5 L62,254.5 78,254.5\" fill=\"currentColor\"/>\n",
       "</g>\n",
       "\n",
       "<g class=\"displacy-arrow\">\n",
       "    <path class=\"displacy-arc\" id=\"arrow-d4091bc656d4427eb80a82d4d7733fff-0-1\" stroke-width=\"2px\" d=\"M245,264.5 C245,177.0 390.0,177.0 390.0,264.5\" fill=\"none\" stroke=\"currentColor\"/>\n",
       "    <text dy=\"1.25em\" style=\"font-size: 0.8em; letter-spacing: 1px\">\n",
       "        <textPath xlink:href=\"#arrow-d4091bc656d4427eb80a82d4d7733fff-0-1\" class=\"displacy-label\" startOffset=\"50%\" side=\"left\" fill=\"currentColor\" text-anchor=\"middle\">nsubj</textPath>\n",
       "    </text>\n",
       "    <path class=\"displacy-arrowhead\" d=\"M245,266.5 L237,254.5 253,254.5\" fill=\"currentColor\"/>\n",
       "</g>\n",
       "\n",
       "<g class=\"displacy-arrow\">\n",
       "    <path class=\"displacy-arc\" id=\"arrow-d4091bc656d4427eb80a82d4d7733fff-0-2\" stroke-width=\"2px\" d=\"M595,264.5 C595,177.0 740.0,177.0 740.0,264.5\" fill=\"none\" stroke=\"currentColor\"/>\n",
       "    <text dy=\"1.25em\" style=\"font-size: 0.8em; letter-spacing: 1px\">\n",
       "        <textPath xlink:href=\"#arrow-d4091bc656d4427eb80a82d4d7733fff-0-2\" class=\"displacy-label\" startOffset=\"50%\" side=\"left\" fill=\"currentColor\" text-anchor=\"middle\">compound</textPath>\n",
       "    </text>\n",
       "    <path class=\"displacy-arrowhead\" d=\"M595,266.5 L587,254.5 603,254.5\" fill=\"currentColor\"/>\n",
       "</g>\n",
       "\n",
       "<g class=\"displacy-arrow\">\n",
       "    <path class=\"displacy-arc\" id=\"arrow-d4091bc656d4427eb80a82d4d7733fff-0-3\" stroke-width=\"2px\" d=\"M420,264.5 C420,89.5 745.0,89.5 745.0,264.5\" fill=\"none\" stroke=\"currentColor\"/>\n",
       "    <text dy=\"1.25em\" style=\"font-size: 0.8em; letter-spacing: 1px\">\n",
       "        <textPath xlink:href=\"#arrow-d4091bc656d4427eb80a82d4d7733fff-0-3\" class=\"displacy-label\" startOffset=\"50%\" side=\"left\" fill=\"currentColor\" text-anchor=\"middle\">dobj</textPath>\n",
       "    </text>\n",
       "    <path class=\"displacy-arrowhead\" d=\"M745.0,266.5 L753.0,254.5 737.0,254.5\" fill=\"currentColor\"/>\n",
       "</g>\n",
       "\n",
       "<g class=\"displacy-arrow\">\n",
       "    <path class=\"displacy-arc\" id=\"arrow-d4091bc656d4427eb80a82d4d7733fff-0-4\" stroke-width=\"2px\" d=\"M420,264.5 C420,2.0 925.0,2.0 925.0,264.5\" fill=\"none\" stroke=\"currentColor\"/>\n",
       "    <text dy=\"1.25em\" style=\"font-size: 0.8em; letter-spacing: 1px\">\n",
       "        <textPath xlink:href=\"#arrow-d4091bc656d4427eb80a82d4d7733fff-0-4\" class=\"displacy-label\" startOffset=\"50%\" side=\"left\" fill=\"currentColor\" text-anchor=\"middle\">prep</textPath>\n",
       "    </text>\n",
       "    <path class=\"displacy-arrowhead\" d=\"M925.0,266.5 L933.0,254.5 917.0,254.5\" fill=\"currentColor\"/>\n",
       "</g>\n",
       "\n",
       "<g class=\"displacy-arrow\">\n",
       "    <path class=\"displacy-arc\" id=\"arrow-d4091bc656d4427eb80a82d4d7733fff-0-5\" stroke-width=\"2px\" d=\"M945,264.5 C945,177.0 1090.0,177.0 1090.0,264.5\" fill=\"none\" stroke=\"currentColor\"/>\n",
       "    <text dy=\"1.25em\" style=\"font-size: 0.8em; letter-spacing: 1px\">\n",
       "        <textPath xlink:href=\"#arrow-d4091bc656d4427eb80a82d4d7733fff-0-5\" class=\"displacy-label\" startOffset=\"50%\" side=\"left\" fill=\"currentColor\" text-anchor=\"middle\">pobj</textPath>\n",
       "    </text>\n",
       "    <path class=\"displacy-arrowhead\" d=\"M1090.0,266.5 L1098.0,254.5 1082.0,254.5\" fill=\"currentColor\"/>\n",
       "</g>\n",
       "</svg></span>"
      ],
      "text/plain": [
       "<IPython.core.display.HTML object>"
      ]
     },
     "metadata": {},
     "output_type": "display_data"
    }
   ],
   "source": [
    "import spacy\n",
    "from spacy import displacy\n",
    "\n",
    "nlp = spacy.load(\"en_core_web_sm\")\n",
    "doc = nlp(\"Autonomous cars shift insurance liability toward manufacturers\")\n",
    "# Since this is an interactive Jupyter environment, we can use displacy.render here\n",
    "displacy.render(doc, style='dep')"
   ]
  },
  {
   "cell_type": "markdown",
   "metadata": {},
   "source": [
    "Long texts can become difficult to read when displayed in one row, so it’s often better to visualize them sentence-by-sentence instead. DisplaCy supports rendering both `Doc` and `Span` objects, as well as lists of `Docs` or `Spans`. Instead of passing the full `Doc` to `displacy.render`, you can also pass in a list of `doc.sents`. This will create one visualization for each sentence."
   ]
  },
  {
   "cell_type": "code",
   "execution_count": 4,
   "metadata": {
    "tags": []
   },
   "outputs": [
    {
     "data": {
      "text/html": [
       "<span class=\"tex2jax_ignore\"><svg xmlns=\"http://www.w3.org/2000/svg\" xmlns:xlink=\"http://www.w3.org/1999/xlink\" xml:lang=\"en\" id=\"03ad91b819c44614a82d4a45a18d0e6c-0\" class=\"displacy\" width=\"1550\" height=\"362.0\" direction=\"ltr\" style=\"max-width: none; height: 362.0px; color: #000000; background: #ffffff; font-family: Arial; direction: ltr\">\n",
       "<text class=\"displacy-token\" fill=\"currentColor\" text-anchor=\"middle\" y=\"272.0\">\n",
       "    <tspan class=\"displacy-word\" fill=\"currentColor\" x=\"50\">In</tspan>\n",
       "    <tspan class=\"displacy-tag\" dy=\"2em\" fill=\"currentColor\" x=\"50\">ADP</tspan>\n",
       "</text>\n",
       "\n",
       "<text class=\"displacy-token\" fill=\"currentColor\" text-anchor=\"middle\" y=\"272.0\">\n",
       "    <tspan class=\"displacy-word\" fill=\"currentColor\" x=\"200\">ancient</tspan>\n",
       "    <tspan class=\"displacy-tag\" dy=\"2em\" fill=\"currentColor\" x=\"200\">ADJ</tspan>\n",
       "</text>\n",
       "\n",
       "<text class=\"displacy-token\" fill=\"currentColor\" text-anchor=\"middle\" y=\"272.0\">\n",
       "    <tspan class=\"displacy-word\" fill=\"currentColor\" x=\"350\">Rome,</tspan>\n",
       "    <tspan class=\"displacy-tag\" dy=\"2em\" fill=\"currentColor\" x=\"350\">PROPN</tspan>\n",
       "</text>\n",
       "\n",
       "<text class=\"displacy-token\" fill=\"currentColor\" text-anchor=\"middle\" y=\"272.0\">\n",
       "    <tspan class=\"displacy-word\" fill=\"currentColor\" x=\"500\">some</tspan>\n",
       "    <tspan class=\"displacy-tag\" dy=\"2em\" fill=\"currentColor\" x=\"500\">DET</tspan>\n",
       "</text>\n",
       "\n",
       "<text class=\"displacy-token\" fill=\"currentColor\" text-anchor=\"middle\" y=\"272.0\">\n",
       "    <tspan class=\"displacy-word\" fill=\"currentColor\" x=\"650\">neighbors</tspan>\n",
       "    <tspan class=\"displacy-tag\" dy=\"2em\" fill=\"currentColor\" x=\"650\">NOUN</tspan>\n",
       "</text>\n",
       "\n",
       "<text class=\"displacy-token\" fill=\"currentColor\" text-anchor=\"middle\" y=\"272.0\">\n",
       "    <tspan class=\"displacy-word\" fill=\"currentColor\" x=\"800\">live</tspan>\n",
       "    <tspan class=\"displacy-tag\" dy=\"2em\" fill=\"currentColor\" x=\"800\">VERB</tspan>\n",
       "</text>\n",
       "\n",
       "<text class=\"displacy-token\" fill=\"currentColor\" text-anchor=\"middle\" y=\"272.0\">\n",
       "    <tspan class=\"displacy-word\" fill=\"currentColor\" x=\"950\">in</tspan>\n",
       "    <tspan class=\"displacy-tag\" dy=\"2em\" fill=\"currentColor\" x=\"950\">ADP</tspan>\n",
       "</text>\n",
       "\n",
       "<text class=\"displacy-token\" fill=\"currentColor\" text-anchor=\"middle\" y=\"272.0\">\n",
       "    <tspan class=\"displacy-word\" fill=\"currentColor\" x=\"1100\">three</tspan>\n",
       "    <tspan class=\"displacy-tag\" dy=\"2em\" fill=\"currentColor\" x=\"1100\">NUM</tspan>\n",
       "</text>\n",
       "\n",
       "<text class=\"displacy-token\" fill=\"currentColor\" text-anchor=\"middle\" y=\"272.0\">\n",
       "    <tspan class=\"displacy-word\" fill=\"currentColor\" x=\"1250\">adjacent</tspan>\n",
       "    <tspan class=\"displacy-tag\" dy=\"2em\" fill=\"currentColor\" x=\"1250\">ADJ</tspan>\n",
       "</text>\n",
       "\n",
       "<text class=\"displacy-token\" fill=\"currentColor\" text-anchor=\"middle\" y=\"272.0\">\n",
       "    <tspan class=\"displacy-word\" fill=\"currentColor\" x=\"1400\">houses.</tspan>\n",
       "    <tspan class=\"displacy-tag\" dy=\"2em\" fill=\"currentColor\" x=\"1400\">NOUN</tspan>\n",
       "</text>\n",
       "\n",
       "<g class=\"displacy-arrow\">\n",
       "    <path class=\"displacy-arc\" id=\"arrow-03ad91b819c44614a82d4a45a18d0e6c-0-0\" stroke-width=\"2px\" d=\"M62,227.0 62,152.0 800.0,152.0 800.0,227.0\" fill=\"none\" stroke=\"currentColor\"/>\n",
       "    <text dy=\"1.25em\" style=\"font-size: 0.8em; letter-spacing: 1px\">\n",
       "        <textPath xlink:href=\"#arrow-03ad91b819c44614a82d4a45a18d0e6c-0-0\" class=\"displacy-label\" startOffset=\"50%\" side=\"left\" fill=\"currentColor\" text-anchor=\"middle\">prep</textPath>\n",
       "    </text>\n",
       "    <path class=\"displacy-arrowhead\" d=\"M62,229.0 L58,221.0 66,221.0\" fill=\"currentColor\"/>\n",
       "</g>\n",
       "\n",
       "<g class=\"displacy-arrow\">\n",
       "    <path class=\"displacy-arc\" id=\"arrow-03ad91b819c44614a82d4a45a18d0e6c-0-1\" stroke-width=\"2px\" d=\"M212,227.0 212,202.0 344.0,202.0 344.0,227.0\" fill=\"none\" stroke=\"currentColor\"/>\n",
       "    <text dy=\"1.25em\" style=\"font-size: 0.8em; letter-spacing: 1px\">\n",
       "        <textPath xlink:href=\"#arrow-03ad91b819c44614a82d4a45a18d0e6c-0-1\" class=\"displacy-label\" startOffset=\"50%\" side=\"left\" fill=\"currentColor\" text-anchor=\"middle\">amod</textPath>\n",
       "    </text>\n",
       "    <path class=\"displacy-arrowhead\" d=\"M212,229.0 L208,221.0 216,221.0\" fill=\"currentColor\"/>\n",
       "</g>\n",
       "\n",
       "<g class=\"displacy-arrow\">\n",
       "    <path class=\"displacy-arc\" id=\"arrow-03ad91b819c44614a82d4a45a18d0e6c-0-2\" stroke-width=\"2px\" d=\"M62,227.0 62,177.0 347.0,177.0 347.0,227.0\" fill=\"none\" stroke=\"currentColor\"/>\n",
       "    <text dy=\"1.25em\" style=\"font-size: 0.8em; letter-spacing: 1px\">\n",
       "        <textPath xlink:href=\"#arrow-03ad91b819c44614a82d4a45a18d0e6c-0-2\" class=\"displacy-label\" startOffset=\"50%\" side=\"left\" fill=\"currentColor\" text-anchor=\"middle\">pobj</textPath>\n",
       "    </text>\n",
       "    <path class=\"displacy-arrowhead\" d=\"M347.0,229.0 L351.0,221.0 343.0,221.0\" fill=\"currentColor\"/>\n",
       "</g>\n",
       "\n",
       "<g class=\"displacy-arrow\">\n",
       "    <path class=\"displacy-arc\" id=\"arrow-03ad91b819c44614a82d4a45a18d0e6c-0-3\" stroke-width=\"2px\" d=\"M512,227.0 512,202.0 644.0,202.0 644.0,227.0\" fill=\"none\" stroke=\"currentColor\"/>\n",
       "    <text dy=\"1.25em\" style=\"font-size: 0.8em; letter-spacing: 1px\">\n",
       "        <textPath xlink:href=\"#arrow-03ad91b819c44614a82d4a45a18d0e6c-0-3\" class=\"displacy-label\" startOffset=\"50%\" side=\"left\" fill=\"currentColor\" text-anchor=\"middle\">det</textPath>\n",
       "    </text>\n",
       "    <path class=\"displacy-arrowhead\" d=\"M512,229.0 L508,221.0 516,221.0\" fill=\"currentColor\"/>\n",
       "</g>\n",
       "\n",
       "<g class=\"displacy-arrow\">\n",
       "    <path class=\"displacy-arc\" id=\"arrow-03ad91b819c44614a82d4a45a18d0e6c-0-4\" stroke-width=\"2px\" d=\"M662,227.0 662,202.0 794.0,202.0 794.0,227.0\" fill=\"none\" stroke=\"currentColor\"/>\n",
       "    <text dy=\"1.25em\" style=\"font-size: 0.8em; letter-spacing: 1px\">\n",
       "        <textPath xlink:href=\"#arrow-03ad91b819c44614a82d4a45a18d0e6c-0-4\" class=\"displacy-label\" startOffset=\"50%\" side=\"left\" fill=\"currentColor\" text-anchor=\"middle\">nsubj</textPath>\n",
       "    </text>\n",
       "    <path class=\"displacy-arrowhead\" d=\"M662,229.0 L658,221.0 666,221.0\" fill=\"currentColor\"/>\n",
       "</g>\n",
       "\n",
       "<g class=\"displacy-arrow\">\n",
       "    <path class=\"displacy-arc\" id=\"arrow-03ad91b819c44614a82d4a45a18d0e6c-0-5\" stroke-width=\"2px\" d=\"M812,227.0 812,202.0 944.0,202.0 944.0,227.0\" fill=\"none\" stroke=\"currentColor\"/>\n",
       "    <text dy=\"1.25em\" style=\"font-size: 0.8em; letter-spacing: 1px\">\n",
       "        <textPath xlink:href=\"#arrow-03ad91b819c44614a82d4a45a18d0e6c-0-5\" class=\"displacy-label\" startOffset=\"50%\" side=\"left\" fill=\"currentColor\" text-anchor=\"middle\">prep</textPath>\n",
       "    </text>\n",
       "    <path class=\"displacy-arrowhead\" d=\"M944.0,229.0 L948.0,221.0 940.0,221.0\" fill=\"currentColor\"/>\n",
       "</g>\n",
       "\n",
       "<g class=\"displacy-arrow\">\n",
       "    <path class=\"displacy-arc\" id=\"arrow-03ad91b819c44614a82d4a45a18d0e6c-0-6\" stroke-width=\"2px\" d=\"M1112,227.0 1112,177.0 1397.0,177.0 1397.0,227.0\" fill=\"none\" stroke=\"currentColor\"/>\n",
       "    <text dy=\"1.25em\" style=\"font-size: 0.8em; letter-spacing: 1px\">\n",
       "        <textPath xlink:href=\"#arrow-03ad91b819c44614a82d4a45a18d0e6c-0-6\" class=\"displacy-label\" startOffset=\"50%\" side=\"left\" fill=\"currentColor\" text-anchor=\"middle\">nummod</textPath>\n",
       "    </text>\n",
       "    <path class=\"displacy-arrowhead\" d=\"M1112,229.0 L1108,221.0 1116,221.0\" fill=\"currentColor\"/>\n",
       "</g>\n",
       "\n",
       "<g class=\"displacy-arrow\">\n",
       "    <path class=\"displacy-arc\" id=\"arrow-03ad91b819c44614a82d4a45a18d0e6c-0-7\" stroke-width=\"2px\" d=\"M1262,227.0 1262,202.0 1394.0,202.0 1394.0,227.0\" fill=\"none\" stroke=\"currentColor\"/>\n",
       "    <text dy=\"1.25em\" style=\"font-size: 0.8em; letter-spacing: 1px\">\n",
       "        <textPath xlink:href=\"#arrow-03ad91b819c44614a82d4a45a18d0e6c-0-7\" class=\"displacy-label\" startOffset=\"50%\" side=\"left\" fill=\"currentColor\" text-anchor=\"middle\">amod</textPath>\n",
       "    </text>\n",
       "    <path class=\"displacy-arrowhead\" d=\"M1262,229.0 L1258,221.0 1266,221.0\" fill=\"currentColor\"/>\n",
       "</g>\n",
       "\n",
       "<g class=\"displacy-arrow\">\n",
       "    <path class=\"displacy-arc\" id=\"arrow-03ad91b819c44614a82d4a45a18d0e6c-0-8\" stroke-width=\"2px\" d=\"M962,227.0 962,152.0 1400.0,152.0 1400.0,227.0\" fill=\"none\" stroke=\"currentColor\"/>\n",
       "    <text dy=\"1.25em\" style=\"font-size: 0.8em; letter-spacing: 1px\">\n",
       "        <textPath xlink:href=\"#arrow-03ad91b819c44614a82d4a45a18d0e6c-0-8\" class=\"displacy-label\" startOffset=\"50%\" side=\"left\" fill=\"currentColor\" text-anchor=\"middle\">pobj</textPath>\n",
       "    </text>\n",
       "    <path class=\"displacy-arrowhead\" d=\"M1400.0,229.0 L1404.0,221.0 1396.0,221.0\" fill=\"currentColor\"/>\n",
       "</g>\n",
       "</svg>\n",
       "\n",
       "<svg xmlns=\"http://www.w3.org/2000/svg\" xmlns:xlink=\"http://www.w3.org/1999/xlink\" xml:lang=\"en\" id=\"03ad91b819c44614a82d4a45a18d0e6c-1\" class=\"displacy\" width=\"2150\" height=\"437.0\" direction=\"ltr\" style=\"max-width: none; height: 437.0px; color: #000000; background: #ffffff; font-family: Arial; direction: ltr\">\n",
       "<text class=\"displacy-token\" fill=\"currentColor\" text-anchor=\"middle\" y=\"347.0\">\n",
       "    <tspan class=\"displacy-word\" fill=\"currentColor\" x=\"50\">One</tspan>\n",
       "    <tspan class=\"displacy-tag\" dy=\"2em\" fill=\"currentColor\" x=\"50\">NUM</tspan>\n",
       "</text>\n",
       "\n",
       "<text class=\"displacy-token\" fill=\"currentColor\" text-anchor=\"middle\" y=\"347.0\">\n",
       "    <tspan class=\"displacy-word\" fill=\"currentColor\" x=\"200\">day,</tspan>\n",
       "    <tspan class=\"displacy-tag\" dy=\"2em\" fill=\"currentColor\" x=\"200\">NOUN</tspan>\n",
       "</text>\n",
       "\n",
       "<text class=\"displacy-token\" fill=\"currentColor\" text-anchor=\"middle\" y=\"347.0\">\n",
       "    <tspan class=\"displacy-word\" fill=\"currentColor\" x=\"350\">Senex</tspan>\n",
       "    <tspan class=\"displacy-tag\" dy=\"2em\" fill=\"currentColor\" x=\"350\">PROPN</tspan>\n",
       "</text>\n",
       "\n",
       "<text class=\"displacy-token\" fill=\"currentColor\" text-anchor=\"middle\" y=\"347.0\">\n",
       "    <tspan class=\"displacy-word\" fill=\"currentColor\" x=\"500\">goes</tspan>\n",
       "    <tspan class=\"displacy-tag\" dy=\"2em\" fill=\"currentColor\" x=\"500\">VERB</tspan>\n",
       "</text>\n",
       "\n",
       "<text class=\"displacy-token\" fill=\"currentColor\" text-anchor=\"middle\" y=\"347.0\">\n",
       "    <tspan class=\"displacy-word\" fill=\"currentColor\" x=\"650\">on</tspan>\n",
       "    <tspan class=\"displacy-tag\" dy=\"2em\" fill=\"currentColor\" x=\"650\">ADP</tspan>\n",
       "</text>\n",
       "\n",
       "<text class=\"displacy-token\" fill=\"currentColor\" text-anchor=\"middle\" y=\"347.0\">\n",
       "    <tspan class=\"displacy-word\" fill=\"currentColor\" x=\"800\">a</tspan>\n",
       "    <tspan class=\"displacy-tag\" dy=\"2em\" fill=\"currentColor\" x=\"800\">DET</tspan>\n",
       "</text>\n",
       "\n",
       "<text class=\"displacy-token\" fill=\"currentColor\" text-anchor=\"middle\" y=\"347.0\">\n",
       "    <tspan class=\"displacy-word\" fill=\"currentColor\" x=\"950\">trip</tspan>\n",
       "    <tspan class=\"displacy-tag\" dy=\"2em\" fill=\"currentColor\" x=\"950\">NOUN</tspan>\n",
       "</text>\n",
       "\n",
       "<text class=\"displacy-token\" fill=\"currentColor\" text-anchor=\"middle\" y=\"347.0\">\n",
       "    <tspan class=\"displacy-word\" fill=\"currentColor\" x=\"1100\">and</tspan>\n",
       "    <tspan class=\"displacy-tag\" dy=\"2em\" fill=\"currentColor\" x=\"1100\">CCONJ</tspan>\n",
       "</text>\n",
       "\n",
       "<text class=\"displacy-token\" fill=\"currentColor\" text-anchor=\"middle\" y=\"347.0\">\n",
       "    <tspan class=\"displacy-word\" fill=\"currentColor\" x=\"1250\">leave</tspan>\n",
       "    <tspan class=\"displacy-tag\" dy=\"2em\" fill=\"currentColor\" x=\"1250\">VERB</tspan>\n",
       "</text>\n",
       "\n",
       "<text class=\"displacy-token\" fill=\"currentColor\" text-anchor=\"middle\" y=\"347.0\">\n",
       "    <tspan class=\"displacy-word\" fill=\"currentColor\" x=\"1400\">Pseudolus</tspan>\n",
       "    <tspan class=\"displacy-tag\" dy=\"2em\" fill=\"currentColor\" x=\"1400\">PROPN</tspan>\n",
       "</text>\n",
       "\n",
       "<text class=\"displacy-token\" fill=\"currentColor\" text-anchor=\"middle\" y=\"347.0\">\n",
       "    <tspan class=\"displacy-word\" fill=\"currentColor\" x=\"1550\">in</tspan>\n",
       "    <tspan class=\"displacy-tag\" dy=\"2em\" fill=\"currentColor\" x=\"1550\">ADP</tspan>\n",
       "</text>\n",
       "\n",
       "<text class=\"displacy-token\" fill=\"currentColor\" text-anchor=\"middle\" y=\"347.0\">\n",
       "    <tspan class=\"displacy-word\" fill=\"currentColor\" x=\"1700\">charge</tspan>\n",
       "    <tspan class=\"displacy-tag\" dy=\"2em\" fill=\"currentColor\" x=\"1700\">NOUN</tspan>\n",
       "</text>\n",
       "\n",
       "<text class=\"displacy-token\" fill=\"currentColor\" text-anchor=\"middle\" y=\"347.0\">\n",
       "    <tspan class=\"displacy-word\" fill=\"currentColor\" x=\"1850\">of</tspan>\n",
       "    <tspan class=\"displacy-tag\" dy=\"2em\" fill=\"currentColor\" x=\"1850\">ADP</tspan>\n",
       "</text>\n",
       "\n",
       "<text class=\"displacy-token\" fill=\"currentColor\" text-anchor=\"middle\" y=\"347.0\">\n",
       "    <tspan class=\"displacy-word\" fill=\"currentColor\" x=\"2000\">Hero.</tspan>\n",
       "    <tspan class=\"displacy-tag\" dy=\"2em\" fill=\"currentColor\" x=\"2000\">PROPN</tspan>\n",
       "</text>\n",
       "\n",
       "<g class=\"displacy-arrow\">\n",
       "    <path class=\"displacy-arc\" id=\"arrow-03ad91b819c44614a82d4a45a18d0e6c-1-0\" stroke-width=\"2px\" d=\"M62,302.0 62,277.0 191.0,277.0 191.0,302.0\" fill=\"none\" stroke=\"currentColor\"/>\n",
       "    <text dy=\"1.25em\" style=\"font-size: 0.8em; letter-spacing: 1px\">\n",
       "        <textPath xlink:href=\"#arrow-03ad91b819c44614a82d4a45a18d0e6c-1-0\" class=\"displacy-label\" startOffset=\"50%\" side=\"left\" fill=\"currentColor\" text-anchor=\"middle\">nummod</textPath>\n",
       "    </text>\n",
       "    <path class=\"displacy-arrowhead\" d=\"M62,304.0 L58,296.0 66,296.0\" fill=\"currentColor\"/>\n",
       "</g>\n",
       "\n",
       "<g class=\"displacy-arrow\">\n",
       "    <path class=\"displacy-arc\" id=\"arrow-03ad91b819c44614a82d4a45a18d0e6c-1-1\" stroke-width=\"2px\" d=\"M212,302.0 212,252.0 494.0,252.0 494.0,302.0\" fill=\"none\" stroke=\"currentColor\"/>\n",
       "    <text dy=\"1.25em\" style=\"font-size: 0.8em; letter-spacing: 1px\">\n",
       "        <textPath xlink:href=\"#arrow-03ad91b819c44614a82d4a45a18d0e6c-1-1\" class=\"displacy-label\" startOffset=\"50%\" side=\"left\" fill=\"currentColor\" text-anchor=\"middle\">npadvmod</textPath>\n",
       "    </text>\n",
       "    <path class=\"displacy-arrowhead\" d=\"M212,304.0 L208,296.0 216,296.0\" fill=\"currentColor\"/>\n",
       "</g>\n",
       "\n",
       "<g class=\"displacy-arrow\">\n",
       "    <path class=\"displacy-arc\" id=\"arrow-03ad91b819c44614a82d4a45a18d0e6c-1-2\" stroke-width=\"2px\" d=\"M362,302.0 362,277.0 491.0,277.0 491.0,302.0\" fill=\"none\" stroke=\"currentColor\"/>\n",
       "    <text dy=\"1.25em\" style=\"font-size: 0.8em; letter-spacing: 1px\">\n",
       "        <textPath xlink:href=\"#arrow-03ad91b819c44614a82d4a45a18d0e6c-1-2\" class=\"displacy-label\" startOffset=\"50%\" side=\"left\" fill=\"currentColor\" text-anchor=\"middle\">nsubj</textPath>\n",
       "    </text>\n",
       "    <path class=\"displacy-arrowhead\" d=\"M362,304.0 L358,296.0 366,296.0\" fill=\"currentColor\"/>\n",
       "</g>\n",
       "\n",
       "<g class=\"displacy-arrow\">\n",
       "    <path class=\"displacy-arc\" id=\"arrow-03ad91b819c44614a82d4a45a18d0e6c-1-3\" stroke-width=\"2px\" d=\"M512,302.0 512,277.0 641.0,277.0 641.0,302.0\" fill=\"none\" stroke=\"currentColor\"/>\n",
       "    <text dy=\"1.25em\" style=\"font-size: 0.8em; letter-spacing: 1px\">\n",
       "        <textPath xlink:href=\"#arrow-03ad91b819c44614a82d4a45a18d0e6c-1-3\" class=\"displacy-label\" startOffset=\"50%\" side=\"left\" fill=\"currentColor\" text-anchor=\"middle\">prep</textPath>\n",
       "    </text>\n",
       "    <path class=\"displacy-arrowhead\" d=\"M641.0,304.0 L645.0,296.0 637.0,296.0\" fill=\"currentColor\"/>\n",
       "</g>\n",
       "\n",
       "<g class=\"displacy-arrow\">\n",
       "    <path class=\"displacy-arc\" id=\"arrow-03ad91b819c44614a82d4a45a18d0e6c-1-4\" stroke-width=\"2px\" d=\"M812,302.0 812,277.0 941.0,277.0 941.0,302.0\" fill=\"none\" stroke=\"currentColor\"/>\n",
       "    <text dy=\"1.25em\" style=\"font-size: 0.8em; letter-spacing: 1px\">\n",
       "        <textPath xlink:href=\"#arrow-03ad91b819c44614a82d4a45a18d0e6c-1-4\" class=\"displacy-label\" startOffset=\"50%\" side=\"left\" fill=\"currentColor\" text-anchor=\"middle\">det</textPath>\n",
       "    </text>\n",
       "    <path class=\"displacy-arrowhead\" d=\"M812,304.0 L808,296.0 816,296.0\" fill=\"currentColor\"/>\n",
       "</g>\n",
       "\n",
       "<g class=\"displacy-arrow\">\n",
       "    <path class=\"displacy-arc\" id=\"arrow-03ad91b819c44614a82d4a45a18d0e6c-1-5\" stroke-width=\"2px\" d=\"M662,302.0 662,252.0 944.0,252.0 944.0,302.0\" fill=\"none\" stroke=\"currentColor\"/>\n",
       "    <text dy=\"1.25em\" style=\"font-size: 0.8em; letter-spacing: 1px\">\n",
       "        <textPath xlink:href=\"#arrow-03ad91b819c44614a82d4a45a18d0e6c-1-5\" class=\"displacy-label\" startOffset=\"50%\" side=\"left\" fill=\"currentColor\" text-anchor=\"middle\">pobj</textPath>\n",
       "    </text>\n",
       "    <path class=\"displacy-arrowhead\" d=\"M944.0,304.0 L948.0,296.0 940.0,296.0\" fill=\"currentColor\"/>\n",
       "</g>\n",
       "\n",
       "<g class=\"displacy-arrow\">\n",
       "    <path class=\"displacy-arc\" id=\"arrow-03ad91b819c44614a82d4a45a18d0e6c-1-6\" stroke-width=\"2px\" d=\"M512,302.0 512,227.0 1097.0,227.0 1097.0,302.0\" fill=\"none\" stroke=\"currentColor\"/>\n",
       "    <text dy=\"1.25em\" style=\"font-size: 0.8em; letter-spacing: 1px\">\n",
       "        <textPath xlink:href=\"#arrow-03ad91b819c44614a82d4a45a18d0e6c-1-6\" class=\"displacy-label\" startOffset=\"50%\" side=\"left\" fill=\"currentColor\" text-anchor=\"middle\">cc</textPath>\n",
       "    </text>\n",
       "    <path class=\"displacy-arrowhead\" d=\"M1097.0,304.0 L1101.0,296.0 1093.0,296.0\" fill=\"currentColor\"/>\n",
       "</g>\n",
       "\n",
       "<g class=\"displacy-arrow\">\n",
       "    <path class=\"displacy-arc\" id=\"arrow-03ad91b819c44614a82d4a45a18d0e6c-1-7\" stroke-width=\"2px\" d=\"M512,302.0 512,202.0 1250.0,202.0 1250.0,302.0\" fill=\"none\" stroke=\"currentColor\"/>\n",
       "    <text dy=\"1.25em\" style=\"font-size: 0.8em; letter-spacing: 1px\">\n",
       "        <textPath xlink:href=\"#arrow-03ad91b819c44614a82d4a45a18d0e6c-1-7\" class=\"displacy-label\" startOffset=\"50%\" side=\"left\" fill=\"currentColor\" text-anchor=\"middle\">conj</textPath>\n",
       "    </text>\n",
       "    <path class=\"displacy-arrowhead\" d=\"M1250.0,304.0 L1254.0,296.0 1246.0,296.0\" fill=\"currentColor\"/>\n",
       "</g>\n",
       "\n",
       "<g class=\"displacy-arrow\">\n",
       "    <path class=\"displacy-arc\" id=\"arrow-03ad91b819c44614a82d4a45a18d0e6c-1-8\" stroke-width=\"2px\" d=\"M1262,302.0 1262,277.0 1391.0,277.0 1391.0,302.0\" fill=\"none\" stroke=\"currentColor\"/>\n",
       "    <text dy=\"1.25em\" style=\"font-size: 0.8em; letter-spacing: 1px\">\n",
       "        <textPath xlink:href=\"#arrow-03ad91b819c44614a82d4a45a18d0e6c-1-8\" class=\"displacy-label\" startOffset=\"50%\" side=\"left\" fill=\"currentColor\" text-anchor=\"middle\">dobj</textPath>\n",
       "    </text>\n",
       "    <path class=\"displacy-arrowhead\" d=\"M1391.0,304.0 L1395.0,296.0 1387.0,296.0\" fill=\"currentColor\"/>\n",
       "</g>\n",
       "\n",
       "<g class=\"displacy-arrow\">\n",
       "    <path class=\"displacy-arc\" id=\"arrow-03ad91b819c44614a82d4a45a18d0e6c-1-9\" stroke-width=\"2px\" d=\"M1262,302.0 1262,252.0 1544.0,252.0 1544.0,302.0\" fill=\"none\" stroke=\"currentColor\"/>\n",
       "    <text dy=\"1.25em\" style=\"font-size: 0.8em; letter-spacing: 1px\">\n",
       "        <textPath xlink:href=\"#arrow-03ad91b819c44614a82d4a45a18d0e6c-1-9\" class=\"displacy-label\" startOffset=\"50%\" side=\"left\" fill=\"currentColor\" text-anchor=\"middle\">prep</textPath>\n",
       "    </text>\n",
       "    <path class=\"displacy-arrowhead\" d=\"M1544.0,304.0 L1548.0,296.0 1540.0,296.0\" fill=\"currentColor\"/>\n",
       "</g>\n",
       "\n",
       "<g class=\"displacy-arrow\">\n",
       "    <path class=\"displacy-arc\" id=\"arrow-03ad91b819c44614a82d4a45a18d0e6c-1-10\" stroke-width=\"2px\" d=\"M1562,302.0 1562,277.0 1691.0,277.0 1691.0,302.0\" fill=\"none\" stroke=\"currentColor\"/>\n",
       "    <text dy=\"1.25em\" style=\"font-size: 0.8em; letter-spacing: 1px\">\n",
       "        <textPath xlink:href=\"#arrow-03ad91b819c44614a82d4a45a18d0e6c-1-10\" class=\"displacy-label\" startOffset=\"50%\" side=\"left\" fill=\"currentColor\" text-anchor=\"middle\">pobj</textPath>\n",
       "    </text>\n",
       "    <path class=\"displacy-arrowhead\" d=\"M1691.0,304.0 L1695.0,296.0 1687.0,296.0\" fill=\"currentColor\"/>\n",
       "</g>\n",
       "\n",
       "<g class=\"displacy-arrow\">\n",
       "    <path class=\"displacy-arc\" id=\"arrow-03ad91b819c44614a82d4a45a18d0e6c-1-11\" stroke-width=\"2px\" d=\"M1712,302.0 1712,277.0 1841.0,277.0 1841.0,302.0\" fill=\"none\" stroke=\"currentColor\"/>\n",
       "    <text dy=\"1.25em\" style=\"font-size: 0.8em; letter-spacing: 1px\">\n",
       "        <textPath xlink:href=\"#arrow-03ad91b819c44614a82d4a45a18d0e6c-1-11\" class=\"displacy-label\" startOffset=\"50%\" side=\"left\" fill=\"currentColor\" text-anchor=\"middle\">prep</textPath>\n",
       "    </text>\n",
       "    <path class=\"displacy-arrowhead\" d=\"M1841.0,304.0 L1845.0,296.0 1837.0,296.0\" fill=\"currentColor\"/>\n",
       "</g>\n",
       "\n",
       "<g class=\"displacy-arrow\">\n",
       "    <path class=\"displacy-arc\" id=\"arrow-03ad91b819c44614a82d4a45a18d0e6c-1-12\" stroke-width=\"2px\" d=\"M1862,302.0 1862,277.0 1991.0,277.0 1991.0,302.0\" fill=\"none\" stroke=\"currentColor\"/>\n",
       "    <text dy=\"1.25em\" style=\"font-size: 0.8em; letter-spacing: 1px\">\n",
       "        <textPath xlink:href=\"#arrow-03ad91b819c44614a82d4a45a18d0e6c-1-12\" class=\"displacy-label\" startOffset=\"50%\" side=\"left\" fill=\"currentColor\" text-anchor=\"middle\">pobj</textPath>\n",
       "    </text>\n",
       "    <path class=\"displacy-arrowhead\" d=\"M1991.0,304.0 L1995.0,296.0 1987.0,296.0\" fill=\"currentColor\"/>\n",
       "</g>\n",
       "</svg></span>"
      ],
      "text/plain": [
       "<IPython.core.display.HTML object>"
      ]
     },
     "metadata": {},
     "output_type": "display_data"
    }
   ],
   "source": [
    "import spacy\n",
    "from spacy import displacy\n",
    "\n",
    "nlp = spacy.load(\"en_core_web_sm\")\n",
    "text = \"\"\"In ancient Rome, some neighbors live in three adjacent houses. One day, Senex goes on a trip and leave Pseudolus in charge of Hero.\"\"\"\n",
    "doc = nlp(text)\n",
    "sentence_spans = list(doc.sents)\n",
    "displacy.render(sentence_spans, style=\"dep\", options = {\"compact\": True})"
   ]
  },
  {
   "cell_type": "markdown",
   "metadata": {},
   "source": [
    "### Iterating around the local tree\n",
    "\n",
    "A few more convenience attributes are provided for iterating around the local tree from the token. `Token.lefts` and `Token.rights` attributes provide sequences of syntactic children that occur before and after the token. Both sequences are in sentence order. There are also two integer-typed attributes, `Token.n_lefts` and `Token.n_rights` that give the number of left and right children."
   ]
  },
  {
   "cell_type": "code",
   "execution_count": 5,
   "metadata": {
    "tags": []
   },
   "outputs": [
    {
     "name": "stdout",
     "output_type": "stream",
     "text": [
      "Lefts: ['bright', 'red']\n",
      "Rights ['on']\n",
      "# Lefts 2\n",
      "# Rights 1\n"
     ]
    },
    {
     "data": {
      "text/html": [
       "<span class=\"tex2jax_ignore\"><svg xmlns=\"http://www.w3.org/2000/svg\" xmlns:xlink=\"http://www.w3.org/1999/xlink\" xml:lang=\"en\" id=\"43e13260307b4e68b99fb0d99717cac3-0\" class=\"displacy\" width=\"1100\" height=\"312.0\" direction=\"ltr\" style=\"max-width: none; height: 312.0px; color: #000000; background: #ffffff; font-family: Arial; direction: ltr\">\n",
       "<text class=\"displacy-token\" fill=\"currentColor\" text-anchor=\"middle\" y=\"222.0\">\n",
       "    <tspan class=\"displacy-word\" fill=\"currentColor\" x=\"50\">bright</tspan>\n",
       "    <tspan class=\"displacy-tag\" dy=\"2em\" fill=\"currentColor\" x=\"50\">ADJ</tspan>\n",
       "</text>\n",
       "\n",
       "<text class=\"displacy-token\" fill=\"currentColor\" text-anchor=\"middle\" y=\"222.0\">\n",
       "    <tspan class=\"displacy-word\" fill=\"currentColor\" x=\"225\">red</tspan>\n",
       "    <tspan class=\"displacy-tag\" dy=\"2em\" fill=\"currentColor\" x=\"225\">ADJ</tspan>\n",
       "</text>\n",
       "\n",
       "<text class=\"displacy-token\" fill=\"currentColor\" text-anchor=\"middle\" y=\"222.0\">\n",
       "    <tspan class=\"displacy-word\" fill=\"currentColor\" x=\"400\">apples</tspan>\n",
       "    <tspan class=\"displacy-tag\" dy=\"2em\" fill=\"currentColor\" x=\"400\">NOUN</tspan>\n",
       "</text>\n",
       "\n",
       "<text class=\"displacy-token\" fill=\"currentColor\" text-anchor=\"middle\" y=\"222.0\">\n",
       "    <tspan class=\"displacy-word\" fill=\"currentColor\" x=\"575\">on</tspan>\n",
       "    <tspan class=\"displacy-tag\" dy=\"2em\" fill=\"currentColor\" x=\"575\">ADP</tspan>\n",
       "</text>\n",
       "\n",
       "<text class=\"displacy-token\" fill=\"currentColor\" text-anchor=\"middle\" y=\"222.0\">\n",
       "    <tspan class=\"displacy-word\" fill=\"currentColor\" x=\"750\">the</tspan>\n",
       "    <tspan class=\"displacy-tag\" dy=\"2em\" fill=\"currentColor\" x=\"750\">DET</tspan>\n",
       "</text>\n",
       "\n",
       "<text class=\"displacy-token\" fill=\"currentColor\" text-anchor=\"middle\" y=\"222.0\">\n",
       "    <tspan class=\"displacy-word\" fill=\"currentColor\" x=\"925\">tree</tspan>\n",
       "    <tspan class=\"displacy-tag\" dy=\"2em\" fill=\"currentColor\" x=\"925\">NOUN</tspan>\n",
       "</text>\n",
       "\n",
       "<g class=\"displacy-arrow\">\n",
       "    <path class=\"displacy-arc\" id=\"arrow-43e13260307b4e68b99fb0d99717cac3-0-0\" stroke-width=\"2px\" d=\"M70,177.0 C70,2.0 400.0,2.0 400.0,177.0\" fill=\"none\" stroke=\"currentColor\"/>\n",
       "    <text dy=\"1.25em\" style=\"font-size: 0.8em; letter-spacing: 1px\">\n",
       "        <textPath xlink:href=\"#arrow-43e13260307b4e68b99fb0d99717cac3-0-0\" class=\"displacy-label\" startOffset=\"50%\" side=\"left\" fill=\"currentColor\" text-anchor=\"middle\">amod</textPath>\n",
       "    </text>\n",
       "    <path class=\"displacy-arrowhead\" d=\"M70,179.0 L62,167.0 78,167.0\" fill=\"currentColor\"/>\n",
       "</g>\n",
       "\n",
       "<g class=\"displacy-arrow\">\n",
       "    <path class=\"displacy-arc\" id=\"arrow-43e13260307b4e68b99fb0d99717cac3-0-1\" stroke-width=\"2px\" d=\"M245,177.0 C245,89.5 395.0,89.5 395.0,177.0\" fill=\"none\" stroke=\"currentColor\"/>\n",
       "    <text dy=\"1.25em\" style=\"font-size: 0.8em; letter-spacing: 1px\">\n",
       "        <textPath xlink:href=\"#arrow-43e13260307b4e68b99fb0d99717cac3-0-1\" class=\"displacy-label\" startOffset=\"50%\" side=\"left\" fill=\"currentColor\" text-anchor=\"middle\">amod</textPath>\n",
       "    </text>\n",
       "    <path class=\"displacy-arrowhead\" d=\"M245,179.0 L237,167.0 253,167.0\" fill=\"currentColor\"/>\n",
       "</g>\n",
       "\n",
       "<g class=\"displacy-arrow\">\n",
       "    <path class=\"displacy-arc\" id=\"arrow-43e13260307b4e68b99fb0d99717cac3-0-2\" stroke-width=\"2px\" d=\"M420,177.0 C420,89.5 570.0,89.5 570.0,177.0\" fill=\"none\" stroke=\"currentColor\"/>\n",
       "    <text dy=\"1.25em\" style=\"font-size: 0.8em; letter-spacing: 1px\">\n",
       "        <textPath xlink:href=\"#arrow-43e13260307b4e68b99fb0d99717cac3-0-2\" class=\"displacy-label\" startOffset=\"50%\" side=\"left\" fill=\"currentColor\" text-anchor=\"middle\">prep</textPath>\n",
       "    </text>\n",
       "    <path class=\"displacy-arrowhead\" d=\"M570.0,179.0 L578.0,167.0 562.0,167.0\" fill=\"currentColor\"/>\n",
       "</g>\n",
       "\n",
       "<g class=\"displacy-arrow\">\n",
       "    <path class=\"displacy-arc\" id=\"arrow-43e13260307b4e68b99fb0d99717cac3-0-3\" stroke-width=\"2px\" d=\"M770,177.0 C770,89.5 920.0,89.5 920.0,177.0\" fill=\"none\" stroke=\"currentColor\"/>\n",
       "    <text dy=\"1.25em\" style=\"font-size: 0.8em; letter-spacing: 1px\">\n",
       "        <textPath xlink:href=\"#arrow-43e13260307b4e68b99fb0d99717cac3-0-3\" class=\"displacy-label\" startOffset=\"50%\" side=\"left\" fill=\"currentColor\" text-anchor=\"middle\">det</textPath>\n",
       "    </text>\n",
       "    <path class=\"displacy-arrowhead\" d=\"M770,179.0 L762,167.0 778,167.0\" fill=\"currentColor\"/>\n",
       "</g>\n",
       "\n",
       "<g class=\"displacy-arrow\">\n",
       "    <path class=\"displacy-arc\" id=\"arrow-43e13260307b4e68b99fb0d99717cac3-0-4\" stroke-width=\"2px\" d=\"M595,177.0 C595,2.0 925.0,2.0 925.0,177.0\" fill=\"none\" stroke=\"currentColor\"/>\n",
       "    <text dy=\"1.25em\" style=\"font-size: 0.8em; letter-spacing: 1px\">\n",
       "        <textPath xlink:href=\"#arrow-43e13260307b4e68b99fb0d99717cac3-0-4\" class=\"displacy-label\" startOffset=\"50%\" side=\"left\" fill=\"currentColor\" text-anchor=\"middle\">pobj</textPath>\n",
       "    </text>\n",
       "    <path class=\"displacy-arrowhead\" d=\"M925.0,179.0 L933.0,167.0 917.0,167.0\" fill=\"currentColor\"/>\n",
       "</g>\n",
       "</svg></span>"
      ],
      "text/plain": [
       "<IPython.core.display.HTML object>"
      ]
     },
     "metadata": {},
     "output_type": "display_data"
    }
   ],
   "source": [
    "import spacy\n",
    "\n",
    "nlp = spacy.load(\"en_core_web_sm\")\n",
    "doc = nlp(\"bright red apples on the tree\")\n",
    "print(\"Lefts:\", [token.text for token in doc[2].lefts])\n",
    "print(\"Rights\", [token.text for token in doc[2].rights])\n",
    "print(\"# Lefts\", doc[2].n_lefts)\n",
    "print(\"# Rights\", doc[2].n_rights)\n",
    "displacy.render(doc)"
   ]
  },
  {
   "cell_type": "markdown",
   "metadata": {},
   "source": [
    "You can get a whole phrase by its syntactic head using the `Token.subtree` attribute. This returns an ordered sequence of tokens. You can walk up the tree with the `Token.ancestors` attribute, and check dominance with `Token.is_ancestor`. For the default English pipelines, the parse tree is **projective**, which means that there are no crossing brackets. The tokens returned by `.subtree` are therefore guaranteed to be contiguous. This is not true for e.g. the German pipelines, which have many non-projective dependencies."
   ]
  },
  {
   "cell_type": "code",
   "execution_count": 6,
   "metadata": {
    "tags": []
   },
   "outputs": [
    {
     "name": "stdout",
     "output_type": "stream",
     "text": [
      "Credit nmod 0 2 2 ['account', 'holders', 'submit']\n",
      "and cc 0 0 0 ['Credit', 'account', 'holders', 'submit']\n",
      "mortgage conj 0 0 0 ['Credit', 'account', 'holders', 'submit']\n",
      "account compound 1 0 0 ['holders', 'submit']\n",
      "holders nsubj 1 0 0 ['submit']\n"
     ]
    }
   ],
   "source": [
    "import spacy\n",
    "\n",
    "nlp = spacy.load(\"en_core_web_sm\")\n",
    "doc = nlp(\"Credit and mortgage account holders must submit their requests\")\n",
    "\n",
    "root = [token for token in doc if token.head == token][0]\n",
    "subject = list(root.lefts)[0]\n",
    "for descendant in subject.subtree:\n",
    "    assert subject is descendant or subject.is_ancestor(descendant)\n",
    "    print(descendant.text, descendant.dep_, descendant.n_lefts,\n",
    "            descendant.n_rights,   descendant.n_rights,\n",
    "            [ancestor.text for ancestor in descendant.ancestors])"
   ]
  },
  {
   "cell_type": "markdown",
   "metadata": {},
   "source": [
    "Finally, the `.left_edge` and `.right_edge` attributes can be especially useful, because they give you the first and last token of the subtree. This is the easiest way to create a `Span` object for a syntactic phrase, using the `.retokenize` function. Note that `.right_edge` gives a token within the subtree – so if you use it as the end-point of a range, don’t forget to +1!"
   ]
  },
  {
   "cell_type": "code",
   "execution_count": 7,
   "metadata": {
    "tags": []
   },
   "outputs": [
    {
     "name": "stdout",
     "output_type": "stream",
     "text": [
      "Credit and mortgage account holders NOUN nsubj submit\n",
      "must AUX aux submit\n",
      "submit VERB ROOT submit\n",
      "their PRON poss requests\n",
      "requests NOUN dobj submit\n"
     ]
    }
   ],
   "source": [
    "import spacy\n",
    "\n",
    "nlp = spacy.load(\"en_core_web_sm\")\n",
    "doc = nlp(\"Credit and mortgage account holders must submit their requests\")\n",
    "span = doc[doc[4].left_edge.i : doc[4].right_edge.i+1]\n",
    "with doc.retokenize() as retokenizer:\n",
    "    retokenizer.merge(span)\n",
    "for token in doc:\n",
    "    print(token.text, token.pos_, token.dep_, token.head.text)"
   ]
  },
  {
   "cell_type": "markdown",
   "metadata": {},
   "source": [
    "The dependency parse can be a useful tool for information extraction, especially when combined with other predictions like named entities. The following example extracts money and currency values, i.e. entities labeled as `MONEY`, and then uses the dependency parse to find the noun phrase they are referring to – for example `\"Net income\"→ \"$9.4 million\"`."
   ]
  },
  {
   "cell_type": "code",
   "execution_count": 8,
   "metadata": {
    "tags": []
   },
   "outputs": [
    {
     "name": "stdout",
     "output_type": "stream",
     "text": [
      "Net income --> $9.4 million\n",
      "the prior year --> $2.7 million\n",
      "Revenue --> twelve billion dollars\n",
      "a loss --> 1$ billion\n"
     ]
    }
   ],
   "source": [
    "import spacy\n",
    "\n",
    "nlp = spacy.load(\"en_core_web_sm\")\n",
    "# Merge noun phrases and entities for easier analysis\n",
    "nlp.add_pipe(\"merge_entities\")\n",
    "nlp.add_pipe(\"merge_noun_chunks\")\n",
    "\n",
    "TEXTS = [\n",
    "    \"Net income was $9.4 million compared to the prior year of $2.7 million.\",\n",
    "    \"Revenue exceeded twelve billion dollars, with a loss of 1$ billion\",\n",
    "]\n",
    "for doc in nlp.pipe(TEXTS):\n",
    "    for token in doc:\n",
    "        if token.ent_type_ == \"MONEY\":\n",
    "            # We have an attribute and direct object, so check for subject\n",
    "            if token.dep_ in (\"attr\", \"dobj\"):\n",
    "                subj = [w for w in token.head.lefts if w.dep_ == \"nsubj\"]\n",
    "                if subj:\n",
    "                    print(subj[0], \"-->\", token)\n",
    "            # We have a prepositional object with a preposition\n",
    "            elif token.dep_ == \"pobj\" and token.head.dep_ == \"prep\":\n",
    "                print(token.head.head, \"-->\", token)"
   ]
  },
  {
   "cell_type": "markdown",
   "metadata": {},
   "source": [
    "## Span Labeling with 🤗 Transformers\n",
    "\n",
    "We are now going to see some interesting use-cases for span labeling with the transformer library. We will use `pipelines` covered in the week 2 tutorial, since they are the fastest way to use fine-tuned models.\n",
    "\n",
    "In the first example, we will use a model trained to perform NER on the [CoNLL-2003](https://www.clips.uantwerpen.be/conll2003/ner/index.html) dataset. Recall that these model operate on subword tokens, which complicates a bit the mapping of predicted tags to the original word representations. Luckily, this is handled automatically by the `ner` pipeline, a subclass of the `TokenClassificationPipeline` we mentioned in the first tutorial."
   ]
  },
  {
   "cell_type": "code",
   "execution_count": 9,
   "metadata": {
    "tags": []
   },
   "outputs": [
    {
     "name": "stdout",
     "output_type": "stream",
     "text": [
      "[{'entity': 'B-PER', 'score': 0.9990139, 'index': 4, 'word': 'Wolfgang', 'start': 11, 'end': 19}, {'entity': 'B-LOC', 'score': 0.999645, 'index': 9, 'word': 'Berlin', 'start': 34, 'end': 40}]\n"
     ]
    }
   ],
   "source": [
    "from transformers import pipeline\n",
    "\n",
    "ner = pipeline(\"ner\", model=\"dslim/bert-base-NER\")\n",
    "example = \"My name is Wolfgang and I live in Berlin\"\n",
    "ner_results = ner(example)\n",
    "print(ner_results)"
   ]
  },
  {
   "cell_type": "markdown",
   "metadata": {},
   "source": [
    "Let's now build a function that lets us visualize the predictions of a model using displaCy:"
   ]
  },
  {
   "cell_type": "code",
   "execution_count": 10,
   "metadata": {
    "tags": []
   },
   "outputs": [
    {
     "data": {
      "text/html": [
       "<span class=\"tex2jax_ignore\"><div class=\"entities\" style=\"line-height: 2.5; direction: ltr\">My name is \n",
       "<mark class=\"entity\" style=\"background: linear-gradient(90deg, #aa9cfc, #fc9ce7); padding: 0.45em 0.6em; margin: 0 0.25em; line-height: 1; border-radius: 0.35em;\">\n",
       "    Wolfgang\n",
       "    <span style=\"font-size: 0.8em; font-weight: bold; line-height: 1; border-radius: 0.35em; vertical-align: middle; margin-left: 0.5rem\">B-PER</span>\n",
       "</mark>\n",
       " and I live in \n",
       "<mark class=\"entity\" style=\"background: linear-gradient(90deg, #aa9cfc, #fc9ce7); padding: 0.45em 0.6em; margin: 0 0.25em; line-height: 1; border-radius: 0.35em;\">\n",
       "    Berlin\n",
       "    <span style=\"font-size: 0.8em; font-weight: bold; line-height: 1; border-radius: 0.35em; vertical-align: middle; margin-left: 0.5rem\">B-LOC</span>\n",
       "</mark>\n",
       "</div></span>"
      ],
      "text/plain": [
       "<IPython.core.display.HTML object>"
      ]
     },
     "metadata": {},
     "output_type": "display_data"
    }
   ],
   "source": [
    "import numpy\n",
    "import spacy\n",
    "from spacy import displacy\n",
    "from spacy.attrs import ENT_IOB, ENT_TYPE\n",
    "\n",
    "nlp = spacy.load(\"en_core_web_sm\")\n",
    "example = \"My name is Wolfgang and I live in Berlin\"\n",
    "\n",
    "def render_tags(nlp, text, tags):\n",
    "    doc = nlp.make_doc(text)\n",
    "    for ent in tags:\n",
    "        # Using char_span instead of building the Span manually allows us to use the char indexes\n",
    "        # produced alongside the model's output\n",
    "        ent_span = doc.char_span(ent[\"start\"], ent[\"end\"], label=ent[\"entity\"])\n",
    "        doc.set_ents([ent_span], default=\"unmodified\")\n",
    "    # This adds nice colors to the unknown entities\n",
    "    options = {\"colors\": {k[\"entity\"]:\"linear-gradient(90deg, #aa9cfc, #fc9ce7)\" for k in tags}}\n",
    "    return displacy.render(doc, style=\"ent\", options=options)\n",
    "\n",
    "render_tags(nlp, example, ner_results)"
   ]
  },
  {
   "cell_type": "markdown",
   "metadata": {},
   "source": [
    "### Span Labeling Beyond POS & NER\n",
    "\n",
    "While POS tagging and NER are by far the two most popular tasks in which per-token labels need to be predicted, they are not the only interesting ones. In the next code bit we will use a model trained to tag personal information in clinical reports, which can be used for **clinical note de-identification**:"
   ]
  },
  {
   "cell_type": "code",
   "execution_count": 11,
   "metadata": {
    "tags": []
   },
   "outputs": [
    {
     "name": "stderr",
     "output_type": "stream",
     "text": [
      "Asking to truncate to max_length but no maximum length is provided and the model has no predefined maximum length. Default to no truncation.\n"
     ]
    },
    {
     "data": {
      "text/plain": [
       "[{'entity': 'B-STAFF',\n",
       "  'score': 0.99943334,\n",
       "  'index': 15,\n",
       "  'word': 'Roger',\n",
       "  'start': 61,\n",
       "  'end': 66},\n",
       " {'entity': 'I-STAFF',\n",
       "  'score': 0.99912256,\n",
       "  'index': 16,\n",
       "  'word': 'C',\n",
       "  'start': 67,\n",
       "  'end': 68},\n",
       " {'entity': 'L-STAFF',\n",
       "  'score': 0.9993362,\n",
       "  'index': 17,\n",
       "  'word': 'Kelly',\n",
       "  'start': 69,\n",
       "  'end': 74}]"
      ]
     },
     "execution_count": 11,
     "metadata": {},
     "output_type": "execute_result"
    }
   ],
   "source": [
    "note = (\n",
    "    \"Hospital Care Team Service: Orthopedics Inpatient Attending: Roger C Kelly, \"\n",
    "    \"MD Attending phys phone: (634)743-5135 Discharge Unit: HCS843 Primary Care \"\n",
    "    \"Physician: Hassan V Kim, MD 512-832-5025.\"\n",
    ")\n",
    "\n",
    "deid = pipeline(\"ner\", model=\"obi/deid_bert_i2b2\")\n",
    "deid_result = deid(note)\n",
    "deid_result[:3]"
   ]
  },
  {
   "cell_type": "markdown",
   "metadata": {},
   "source": [
    "Let's now customize the function from before to have only one tag per entity, under the assumption of having only entities composed by contiguous tokens:"
   ]
  },
  {
   "cell_type": "code",
   "execution_count": 12,
   "metadata": {
    "tags": []
   },
   "outputs": [
    {
     "data": {
      "text/html": [
       "<span class=\"tex2jax_ignore\"><div class=\"entities\" style=\"line-height: 2.5; direction: ltr\">Hospital Care Team Service: Orthopedics Inpatient Attending: \n",
       "<mark class=\"entity\" style=\"background: linear-gradient(90deg, #aa9cfc, #fc9ce7); padding: 0.45em 0.6em; margin: 0 0.25em; line-height: 1; border-radius: 0.35em;\">\n",
       "    Roger C Kelly\n",
       "    <span style=\"font-size: 0.8em; font-weight: bold; line-height: 1; border-radius: 0.35em; vertical-align: middle; margin-left: 0.5rem\">STAFF</span>\n",
       "</mark>\n",
       ", MD Attending phys phone: \n",
       "<mark class=\"entity\" style=\"background: linear-gradient(90deg, #aa9cfc, #fc9ce7); padding: 0.45em 0.6em; margin: 0 0.25em; line-height: 1; border-radius: 0.35em;\">\n",
       "    (634)743-5135\n",
       "    <span style=\"font-size: 0.8em; font-weight: bold; line-height: 1; border-radius: 0.35em; vertical-align: middle; margin-left: 0.5rem\">PHONE</span>\n",
       "</mark>\n",
       " Discharge Unit: \n",
       "<mark class=\"entity\" style=\"background: linear-gradient(90deg, #aa9cfc, #fc9ce7); padding: 0.45em 0.6em; margin: 0 0.25em; line-height: 1; border-radius: 0.35em;\">\n",
       "    HCS843\n",
       "    <span style=\"font-size: 0.8em; font-weight: bold; line-height: 1; border-radius: 0.35em; vertical-align: middle; margin-left: 0.5rem\">ID</span>\n",
       "</mark>\n",
       " Primary Care Physician: \n",
       "<mark class=\"entity\" style=\"background: linear-gradient(90deg, #aa9cfc, #fc9ce7); padding: 0.45em 0.6em; margin: 0 0.25em; line-height: 1; border-radius: 0.35em;\">\n",
       "    Hassan V Kim\n",
       "    <span style=\"font-size: 0.8em; font-weight: bold; line-height: 1; border-radius: 0.35em; vertical-align: middle; margin-left: 0.5rem\">STAFF</span>\n",
       "</mark>\n",
       ", MD \n",
       "<mark class=\"entity\" style=\"background: linear-gradient(90deg, #aa9cfc, #fc9ce7); padding: 0.45em 0.6em; margin: 0 0.25em; line-height: 1; border-radius: 0.35em;\">\n",
       "    512\n",
       "    <span style=\"font-size: 0.8em; font-weight: bold; line-height: 1; border-radius: 0.35em; vertical-align: middle; margin-left: 0.5rem\">PHONE</span>\n",
       "</mark>\n",
       "-832-5025.</div></span>"
      ],
      "text/plain": [
       "<IPython.core.display.HTML object>"
      ]
     },
     "metadata": {},
     "output_type": "display_data"
    }
   ],
   "source": [
    "def render_tags_deid(nlp, text, tags):\n",
    "    doc = nlp.make_doc(text)\n",
    "    start_idx = 0\n",
    "    end_idx = 0\n",
    "    for i, ent in enumerate(tags):\n",
    "        if ent[\"entity\"].startswith(\"U\"):\n",
    "            start_idx = ent[\"start\"]\n",
    "            end_idx = ent[\"end\"]\n",
    "        elif ent[\"entity\"].startswith(\"B\"):\n",
    "            start_idx = ent[\"start\"]\n",
    "            continue\n",
    "        # The second part of the expression lets us have some margin of classification error with a simple\n",
    "        # heuristic: if the next entity is the same as the current one, we consider it a continuation even\n",
    "        # if the present one is an end tag (L). Try to remove this to see what happens.\n",
    "        elif ent[\"entity\"].startswith(\"L\") and (i < len(tags) - 1 and tags[i+1][\"entity\"][2:] != ent[\"entity\"][2:]):\n",
    "            end_idx = ent[\"end\"]\n",
    "        else:\n",
    "            continue\n",
    "        # The alignment mode parameter is normally set to \"strict\", meaning that if the start/end indices\n",
    "        # do not match the token boundaries, the span is not created. We set it to \"expand\" to make the matching\n",
    "        # more lenient.\n",
    "        ent_span = doc.char_span(start_idx, end_idx, label=ent.get(\"entity\")[2:], alignment_mode=\"expand\")\n",
    "        doc.set_ents([ent_span], default=\"unmodified\")\n",
    "        # This adds nice colors to the unknown entities\n",
    "        options = {\"colors\": {k[\"entity\"][2:]:\"linear-gradient(90deg, #aa9cfc, #fc9ce7)\" for k in tags}}\n",
    "    return displacy.render(doc, style=\"ent\", options=options)\n",
    "\n",
    "render_tags_deid(nlp, note, deid_result)"
   ]
  },
  {
   "cell_type": "markdown",
   "metadata": {},
   "source": [
    "As you can see, the model is not perfect, but it can provide a nice baseline to anonymize sensitive information in clinical reports. "
   ]
  },
  {
   "cell_type": "markdown",
   "metadata": {},
   "source": [
    "## Other Interesting Text Tagging Tools\n",
    "\n",
    "In this final section, we will briefly cover [Thermostat](https://github.com/DFKI-NLP/thermostat), using Huggingface Transformers and Datasets to visualize interpretability metrics for text classification models.\n",
    "\n",
    "### Token Saliency with Thermostat\n",
    "\n",
    "The concept of **saliency** in interpretable NLP will be covered in the final lesson of the course. For now, it is sufficient to know that we can use different methods, called **feature attribution methods**, to obtain scores approximating the importance of every feature in the input (i.e. tokens in NLP) in determining the model output. Saliency scores are nowadays widely used to interpret the behavior of models, and identify issues in their inference procedure (e.g. relying on spurious features due to overfitting training examples). \n",
    "\n",
    "There are two fundamental differences from previous examples:\n",
    "1. scores are **numeric values** representing importance for every token instead of a classification label.\n",
    "2. scores are not **predictions** but **attributions**. This means that the model is not explicitly trained to predict them, but they are instead a byproduct of model inference for a different task (e.g. text classification).\n",
    "\n",
    "The [Thermostat](https://github.com/DFKI-NLP/thermostat) library provides us with a set of models and datasets for which saliency measures were precomputed, alongside a mean of visualizing them inside Jupyter. In the following example, a `bert-base-uncased` model trained to perform sentiment analysis is used alongside a feature attribution method called [Integrated Gradients](https://captum.ai/api/integrated_gradients.html) to highlight salient tokens in a movie review example for which the model predicts the `POSITIVE` label. The saliency scores are stored in the `attribution` attribute of the object."
   ]
  },
  {
   "cell_type": "code",
   "execution_count": 13,
   "metadata": {
    "tags": []
   },
   "outputs": [
    {
     "name": "stderr",
     "output_type": "stream",
     "text": [
      "Found cached dataset dataset (/home/gsarti/.cache/huggingface/datasets/dataset/imdb-bert-lig/1.0.2/0cbe93e1fbe5b8ed0217559442d8b49a80fd4c2787185f2d7940817c67d8707b)\n"
     ]
    },
    {
     "name": "stdout",
     "output_type": "stream",
     "text": [
      "Loading Thermostat configuration: imdb-bert-lig\n"
     ]
    },
    {
     "data": {
      "text/plain": [
       "token_index     0        1         2         3         4         5         6   \\\n",
       "token        [CLS]  amazing     movie         .      some        of       the   \n",
       "attribution    0.0      1.0  0.028762 -0.206694  0.067878 -0.012668 -0.038177   \n",
       "text_field    text     text      text      text      text      text      text   \n",
       "\n",
       "token_index        7         8         9   ...        39        40        41  \\\n",
       "token          script   writing     could  ...     great    acting         .   \n",
       "attribution -0.114986 -0.173781 -0.083315  ...  0.800842 -0.108838 -0.182696   \n",
       "text_field       text      text      text  ...      text      text      text   \n",
       "\n",
       "token_index        42        43        44        45         46        47  \\\n",
       "token            very    poetic         .    highly  recommend         .   \n",
       "attribution  0.657471  0.301335 -0.190809  0.231953   0.643599  0.061746   \n",
       "text_field       text      text      text      text       text      text   \n",
       "\n",
       "token_index     48  \n",
       "token        [SEP]  \n",
       "attribution    0.0  \n",
       "text_field    text  \n",
       "\n",
       "[3 rows x 46 columns]"
      ]
     },
     "execution_count": 13,
     "metadata": {},
     "output_type": "execute_result"
    }
   ],
   "source": [
    "import thermostat\n",
    "\n",
    "annotated_imdb = thermostat.load(\"imdb-bert-lig\")\n",
    "imdb_instance = annotated_imdb[429]\n",
    "imdb_instance.heatmap"
   ]
  },
  {
   "cell_type": "markdown",
   "metadata": {},
   "source": [
    "The library provides us with a tool to print the saliency in a more visual way, using the `displacy.render` function: red hues represent a high contribution in determining the predicted label, while blue is used to mark tokens that contribute to the opposite prediction (i.e. that \"make the review negative\"). We can now clearly see that positive words are very important to define the positive outcome, while some expressions like \"could have been better\" add a slight negative sentiment to the review."
   ]
  },
  {
   "cell_type": "code",
   "execution_count": 14,
   "metadata": {
    "tags": []
   },
   "outputs": [
    {
     "name": "stdout",
     "output_type": "stream",
     "text": [
      "Predicted label: POSITIVE\n"
     ]
    },
    {
     "data": {
      "text/html": [
       "<span class=\"tex2jax_ignore\"><div class=\"entities\" style=\"line-height: 2.5; direction: ltr\">\n",
       "            <mark class=\"entity\" style=\"background: #ffffff; padding: 0.15em 0.3em; margin: 0 0.2em; line-height: 2.2;\n",
       "            border-radius: 0.25em; box-decoration-break: clone; -webkit-box-decoration-break: clone\">\n",
       "                [CLS]\n",
       "            </mark>\n",
       "            \n",
       "            <mark class=\"entity\" style=\"background: #ff0000; padding: 0.15em 0.3em; margin: 0 0.2em; line-height: 2.2;\n",
       "            border-radius: 0.25em; box-decoration-break: clone; -webkit-box-decoration-break: clone\">\n",
       "                amazing\n",
       "            </mark>\n",
       "            \n",
       "            <mark class=\"entity\" style=\"background: #fff7f7; padding: 0.15em 0.3em; margin: 0 0.2em; line-height: 2.2;\n",
       "            border-radius: 0.25em; box-decoration-break: clone; -webkit-box-decoration-break: clone\">\n",
       "                movie\n",
       "            </mark>\n",
       "            \n",
       "            <mark class=\"entity\" style=\"background: #cacaff; padding: 0.15em 0.3em; margin: 0 0.2em; line-height: 2.2;\n",
       "            border-radius: 0.25em; box-decoration-break: clone; -webkit-box-decoration-break: clone\">\n",
       "                .\n",
       "            </mark>\n",
       "            \n",
       "            <mark class=\"entity\" style=\"background: #ffeded; padding: 0.15em 0.3em; margin: 0 0.2em; line-height: 2.2;\n",
       "            border-radius: 0.25em; box-decoration-break: clone; -webkit-box-decoration-break: clone\">\n",
       "                some\n",
       "            </mark>\n",
       "            \n",
       "            <mark class=\"entity\" style=\"background: #fbfbff; padding: 0.15em 0.3em; margin: 0 0.2em; line-height: 2.2;\n",
       "            border-radius: 0.25em; box-decoration-break: clone; -webkit-box-decoration-break: clone\">\n",
       "                of\n",
       "            </mark>\n",
       "            \n",
       "            <mark class=\"entity\" style=\"background: #f5f5ff; padding: 0.15em 0.3em; margin: 0 0.2em; line-height: 2.2;\n",
       "            border-radius: 0.25em; box-decoration-break: clone; -webkit-box-decoration-break: clone\">\n",
       "                the\n",
       "            </mark>\n",
       "            \n",
       "            <mark class=\"entity\" style=\"background: #e1e1ff; padding: 0.15em 0.3em; margin: 0 0.2em; line-height: 2.2;\n",
       "            border-radius: 0.25em; box-decoration-break: clone; -webkit-box-decoration-break: clone\">\n",
       "                script\n",
       "            </mark>\n",
       "            \n",
       "            <mark class=\"entity\" style=\"background: #d2d2ff; padding: 0.15em 0.3em; margin: 0 0.2em; line-height: 2.2;\n",
       "            border-radius: 0.25em; box-decoration-break: clone; -webkit-box-decoration-break: clone\">\n",
       "                writing\n",
       "            </mark>\n",
       "            \n",
       "            <mark class=\"entity\" style=\"background: #e9e9ff; padding: 0.15em 0.3em; margin: 0 0.2em; line-height: 2.2;\n",
       "            border-radius: 0.25em; box-decoration-break: clone; -webkit-box-decoration-break: clone\">\n",
       "                could\n",
       "            </mark>\n",
       "            \n",
       "            <mark class=\"entity\" style=\"background: #fdfdff; padding: 0.15em 0.3em; margin: 0 0.2em; line-height: 2.2;\n",
       "            border-radius: 0.25em; box-decoration-break: clone; -webkit-box-decoration-break: clone\">\n",
       "                have\n",
       "            </mark>\n",
       "            \n",
       "            <mark class=\"entity\" style=\"background: #e6e6ff; padding: 0.15em 0.3em; margin: 0 0.2em; line-height: 2.2;\n",
       "            border-radius: 0.25em; box-decoration-break: clone; -webkit-box-decoration-break: clone\">\n",
       "                been\n",
       "            </mark>\n",
       "            \n",
       "            <mark class=\"entity\" style=\"background: #d1d1ff; padding: 0.15em 0.3em; margin: 0 0.2em; line-height: 2.2;\n",
       "            border-radius: 0.25em; box-decoration-break: clone; -webkit-box-decoration-break: clone\">\n",
       "                better\n",
       "            </mark>\n",
       "            \n",
       "            <mark class=\"entity\" style=\"background: #fff8f8; padding: 0.15em 0.3em; margin: 0 0.2em; line-height: 2.2;\n",
       "            border-radius: 0.25em; box-decoration-break: clone; -webkit-box-decoration-break: clone\">\n",
       "                (\n",
       "            </mark>\n",
       "            \n",
       "            <mark class=\"entity\" style=\"background: #fff9f9; padding: 0.15em 0.3em; margin: 0 0.2em; line-height: 2.2;\n",
       "            border-radius: 0.25em; box-decoration-break: clone; -webkit-box-decoration-break: clone\">\n",
       "                some\n",
       "            </mark>\n",
       "            \n",
       "            <mark class=\"entity\" style=\"background: #fff5f5; padding: 0.15em 0.3em; margin: 0 0.2em; line-height: 2.2;\n",
       "            border-radius: 0.25em; box-decoration-break: clone; -webkit-box-decoration-break: clone\">\n",
       "                cliched\n",
       "            </mark>\n",
       "            \n",
       "            <mark class=\"entity\" style=\"background: #d9d9ff; padding: 0.15em 0.3em; margin: 0 0.2em; line-height: 2.2;\n",
       "            border-radius: 0.25em; box-decoration-break: clone; -webkit-box-decoration-break: clone\">\n",
       "                language\n",
       "            </mark>\n",
       "            \n",
       "            <mark class=\"entity\" style=\"background: #f2f2ff; padding: 0.15em 0.3em; margin: 0 0.2em; line-height: 2.2;\n",
       "            border-radius: 0.25em; box-decoration-break: clone; -webkit-box-decoration-break: clone\">\n",
       "                )\n",
       "            </mark>\n",
       "            \n",
       "            <mark class=\"entity\" style=\"background: #e6e6ff; padding: 0.15em 0.3em; margin: 0 0.2em; line-height: 2.2;\n",
       "            border-radius: 0.25em; box-decoration-break: clone; -webkit-box-decoration-break: clone\">\n",
       "                .\n",
       "            </mark>\n",
       "            \n",
       "            <mark class=\"entity\" style=\"background: #ffbaba; padding: 0.15em 0.3em; margin: 0 0.2em; line-height: 2.2;\n",
       "            border-radius: 0.25em; box-decoration-break: clone; -webkit-box-decoration-break: clone\">\n",
       "                joyce\n",
       "            </mark>\n",
       "            \n",
       "            <mark class=\"entity\" style=\"background: #e8e8ff; padding: 0.15em 0.3em; margin: 0 0.2em; line-height: 2.2;\n",
       "            border-radius: 0.25em; box-decoration-break: clone; -webkit-box-decoration-break: clone\">\n",
       "                '\n",
       "            </mark>\n",
       "            \n",
       "            <mark class=\"entity\" style=\"background: #e5e5ff; padding: 0.15em 0.3em; margin: 0 0.2em; line-height: 2.2;\n",
       "            border-radius: 0.25em; box-decoration-break: clone; -webkit-box-decoration-break: clone\">\n",
       "                s\n",
       "            </mark>\n",
       "            \n",
       "            <mark class=\"entity\" style=\"background: #dfdfff; padding: 0.15em 0.3em; margin: 0 0.2em; line-height: 2.2;\n",
       "            border-radius: 0.25em; box-decoration-break: clone; -webkit-box-decoration-break: clone\">\n",
       "                &quot;\n",
       "            </mark>\n",
       "            \n",
       "            <mark class=\"entity\" style=\"background: #ffefef; padding: 0.15em 0.3em; margin: 0 0.2em; line-height: 2.2;\n",
       "            border-radius: 0.25em; box-decoration-break: clone; -webkit-box-decoration-break: clone\">\n",
       "                the\n",
       "            </mark>\n",
       "            \n",
       "            <mark class=\"entity\" style=\"background: #f4f4ff; padding: 0.15em 0.3em; margin: 0 0.2em; line-height: 2.2;\n",
       "            border-radius: 0.25em; box-decoration-break: clone; -webkit-box-decoration-break: clone\">\n",
       "                dead\n",
       "            </mark>\n",
       "            \n",
       "            <mark class=\"entity\" style=\"background: #fffefe; padding: 0.15em 0.3em; margin: 0 0.2em; line-height: 2.2;\n",
       "            border-radius: 0.25em; box-decoration-break: clone; -webkit-box-decoration-break: clone\">\n",
       "                &quot;\n",
       "            </mark>\n",
       "            \n",
       "            <mark class=\"entity\" style=\"background: #f4f4ff; padding: 0.15em 0.3em; margin: 0 0.2em; line-height: 2.2;\n",
       "            border-radius: 0.25em; box-decoration-break: clone; -webkit-box-decoration-break: clone\">\n",
       "                is\n",
       "            </mark>\n",
       "            \n",
       "            <mark class=\"entity\" style=\"background: #b1b1ff; padding: 0.15em 0.3em; margin: 0 0.2em; line-height: 2.2;\n",
       "            border-radius: 0.25em; box-decoration-break: clone; -webkit-box-decoration-break: clone\">\n",
       "                alluded\n",
       "            </mark>\n",
       "            \n",
       "            <mark class=\"entity\" style=\"background: #fff4f4; padding: 0.15em 0.3em; margin: 0 0.2em; line-height: 2.2;\n",
       "            border-radius: 0.25em; box-decoration-break: clone; -webkit-box-decoration-break: clone\">\n",
       "                to\n",
       "            </mark>\n",
       "            \n",
       "            <mark class=\"entity\" style=\"background: #fff2f2; padding: 0.15em 0.3em; margin: 0 0.2em; line-height: 2.2;\n",
       "            border-radius: 0.25em; box-decoration-break: clone; -webkit-box-decoration-break: clone\">\n",
       "                throughout\n",
       "            </mark>\n",
       "            \n",
       "            <mark class=\"entity\" style=\"background: #ffecec; padding: 0.15em 0.3em; margin: 0 0.2em; line-height: 2.2;\n",
       "            border-radius: 0.25em; box-decoration-break: clone; -webkit-box-decoration-break: clone\">\n",
       "                the\n",
       "            </mark>\n",
       "            \n",
       "            <mark class=\"entity\" style=\"background: #d2d2ff; padding: 0.15em 0.3em; margin: 0 0.2em; line-height: 2.2;\n",
       "            border-radius: 0.25em; box-decoration-break: clone; -webkit-box-decoration-break: clone\">\n",
       "                movie\n",
       "            </mark>\n",
       "            \n",
       "            <mark class=\"entity\" style=\"background: #cfcfff; padding: 0.15em 0.3em; margin: 0 0.2em; line-height: 2.2;\n",
       "            border-radius: 0.25em; box-decoration-break: clone; -webkit-box-decoration-break: clone\">\n",
       "                .\n",
       "            </mark>\n",
       "            \n",
       "            <mark class=\"entity\" style=\"background: #ff2121; padding: 0.15em 0.3em; margin: 0 0.2em; line-height: 2.2;\n",
       "            border-radius: 0.25em; box-decoration-break: clone; -webkit-box-decoration-break: clone\">\n",
       "                beautiful\n",
       "            </mark>\n",
       "            \n",
       "            <mark class=\"entity\" style=\"background: #adadff; padding: 0.15em 0.3em; margin: 0 0.2em; line-height: 2.2;\n",
       "            border-radius: 0.25em; box-decoration-break: clone; -webkit-box-decoration-break: clone\">\n",
       "                scenery\n",
       "            </mark>\n",
       "            \n",
       "            <mark class=\"entity\" style=\"background: #ffe6e6; padding: 0.15em 0.3em; margin: 0 0.2em; line-height: 2.2;\n",
       "            border-radius: 0.25em; box-decoration-break: clone; -webkit-box-decoration-break: clone\">\n",
       "                and\n",
       "            </mark>\n",
       "            \n",
       "            <mark class=\"entity\" style=\"background: #ff3232; padding: 0.15em 0.3em; margin: 0 0.2em; line-height: 2.2;\n",
       "            border-radius: 0.25em; box-decoration-break: clone; -webkit-box-decoration-break: clone\">\n",
       "                great\n",
       "            </mark>\n",
       "            \n",
       "            <mark class=\"entity\" style=\"background: #e3e3ff; padding: 0.15em 0.3em; margin: 0 0.2em; line-height: 2.2;\n",
       "            border-radius: 0.25em; box-decoration-break: clone; -webkit-box-decoration-break: clone\">\n",
       "                acting\n",
       "            </mark>\n",
       "            \n",
       "            <mark class=\"entity\" style=\"background: #d0d0ff; padding: 0.15em 0.3em; margin: 0 0.2em; line-height: 2.2;\n",
       "            border-radius: 0.25em; box-decoration-break: clone; -webkit-box-decoration-break: clone\">\n",
       "                .\n",
       "            </mark>\n",
       "            \n",
       "            <mark class=\"entity\" style=\"background: #ff5757; padding: 0.15em 0.3em; margin: 0 0.2em; line-height: 2.2;\n",
       "            border-radius: 0.25em; box-decoration-break: clone; -webkit-box-decoration-break: clone\">\n",
       "                very\n",
       "            </mark>\n",
       "            \n",
       "            <mark class=\"entity\" style=\"background: #ffb2b2; padding: 0.15em 0.3em; margin: 0 0.2em; line-height: 2.2;\n",
       "            border-radius: 0.25em; box-decoration-break: clone; -webkit-box-decoration-break: clone\">\n",
       "                poetic\n",
       "            </mark>\n",
       "            \n",
       "            <mark class=\"entity\" style=\"background: #ceceff; padding: 0.15em 0.3em; margin: 0 0.2em; line-height: 2.2;\n",
       "            border-radius: 0.25em; box-decoration-break: clone; -webkit-box-decoration-break: clone\">\n",
       "                .\n",
       "            </mark>\n",
       "            \n",
       "            <mark class=\"entity\" style=\"background: #ffc3c3; padding: 0.15em 0.3em; margin: 0 0.2em; line-height: 2.2;\n",
       "            border-radius: 0.25em; box-decoration-break: clone; -webkit-box-decoration-break: clone\">\n",
       "                highly\n",
       "            </mark>\n",
       "            \n",
       "            <mark class=\"entity\" style=\"background: #ff5a5a; padding: 0.15em 0.3em; margin: 0 0.2em; line-height: 2.2;\n",
       "            border-radius: 0.25em; box-decoration-break: clone; -webkit-box-decoration-break: clone\">\n",
       "                recommend\n",
       "            </mark>\n",
       "            \n",
       "            <mark class=\"entity\" style=\"background: #ffefef; padding: 0.15em 0.3em; margin: 0 0.2em; line-height: 2.2;\n",
       "            border-radius: 0.25em; box-decoration-break: clone; -webkit-box-decoration-break: clone\">\n",
       "                .\n",
       "            </mark>\n",
       "            \n",
       "            <mark class=\"entity\" style=\"background: #ffffff; padding: 0.15em 0.3em; margin: 0 0.2em; line-height: 2.2;\n",
       "            border-radius: 0.25em; box-decoration-break: clone; -webkit-box-decoration-break: clone\">\n",
       "                [SEP]\n",
       "            </mark>\n",
       "            </div></span>"
      ],
      "text/plain": [
       "<IPython.core.display.HTML object>"
      ]
     },
     "metadata": {},
     "output_type": "display_data"
    }
   ],
   "source": [
    "labels = {0: \"NEGATIVE\", 1: \"POSITIVE\"}\n",
    "print(f\"Predicted label: {labels[imdb_instance.predicted_label_index]}\")\n",
    "imdb_instance.render()"
   ]
  },
  {
   "cell_type": "markdown",
   "metadata": {},
   "source": [
    "We can look at another example, in which a BERT model is now used to predict the topic of a newspaper article summary using the same feature attribution method. Many words associated with the predicted `SPORT` topic, such as *team, captain, picks*, are now salient."
   ]
  },
  {
   "cell_type": "markdown",
   "metadata": {},
   "source": [
    "### "
   ]
  },
  {
   "cell_type": "code",
   "execution_count": 15,
   "metadata": {
    "tags": []
   },
   "outputs": [
    {
     "name": "stderr",
     "output_type": "stream",
     "text": [
      "Found cached dataset dataset (/home/gsarti/.cache/huggingface/datasets/dataset/ag_news-bert-lig/1.0.2/0cbe93e1fbe5b8ed0217559442d8b49a80fd4c2787185f2d7940817c67d8707b)\n"
     ]
    },
    {
     "name": "stdout",
     "output_type": "stream",
     "text": [
      "Loading Thermostat configuration: ag_news-bert-lig\n",
      "Predicted label: SPORT\n"
     ]
    },
    {
     "data": {
      "text/html": [
       "<span class=\"tex2jax_ignore\"><div class=\"entities\" style=\"line-height: 2.5; direction: ltr\">\n",
       "            <mark class=\"entity\" style=\"background: #ffffff; padding: 0.15em 0.3em; margin: 0 0.2em; line-height: 2.2;\n",
       "            border-radius: 0.25em; box-decoration-break: clone; -webkit-box-decoration-break: clone\">\n",
       "                [CLS]\n",
       "            </mark>\n",
       "            \n",
       "            <mark class=\"entity\" style=\"background: #3838ff; padding: 0.15em 0.3em; margin: 0 0.2em; line-height: 2.2;\n",
       "            border-radius: 0.25em; box-decoration-break: clone; -webkit-box-decoration-break: clone\">\n",
       "                sutton\n",
       "            </mark>\n",
       "            \n",
       "            <mark class=\"entity\" style=\"background: #dfdfff; padding: 0.15em 0.3em; margin: 0 0.2em; line-height: 2.2;\n",
       "            border-radius: 0.25em; box-decoration-break: clone; -webkit-box-decoration-break: clone\">\n",
       "                adds\n",
       "            </mark>\n",
       "            \n",
       "            <mark class=\"entity\" style=\"background: #ffa8a8; padding: 0.15em 0.3em; margin: 0 0.2em; line-height: 2.2;\n",
       "            border-radius: 0.25em; box-decoration-break: clone; -webkit-box-decoration-break: clone\">\n",
       "                haas\n",
       "            </mark>\n",
       "            \n",
       "            <mark class=\"entity\" style=\"background: #ffe9e9; padding: 0.15em 0.3em; margin: 0 0.2em; line-height: 2.2;\n",
       "            border-radius: 0.25em; box-decoration-break: clone; -webkit-box-decoration-break: clone\">\n",
       "                ,\n",
       "            </mark>\n",
       "            \n",
       "            <mark class=\"entity\" style=\"background: #fff1f1; padding: 0.15em 0.3em; margin: 0 0.2em; line-height: 2.2;\n",
       "            border-radius: 0.25em; box-decoration-break: clone; -webkit-box-decoration-break: clone\">\n",
       "                cink\n",
       "            </mark>\n",
       "            \n",
       "            <mark class=\"entity\" style=\"background: #ffbfbf; padding: 0.15em 0.3em; margin: 0 0.2em; line-height: 2.2;\n",
       "            border-radius: 0.25em; box-decoration-break: clone; -webkit-box-decoration-break: clone\">\n",
       "                to\n",
       "            </mark>\n",
       "            \n",
       "            <mark class=\"entity\" style=\"background: #fff2f2; padding: 0.15em 0.3em; margin: 0 0.2em; line-height: 2.2;\n",
       "            border-radius: 0.25em; box-decoration-break: clone; -webkit-box-decoration-break: clone\">\n",
       "                ryder\n",
       "            </mark>\n",
       "            \n",
       "            <mark class=\"entity\" style=\"background: #ffe9e9; padding: 0.15em 0.3em; margin: 0 0.2em; line-height: 2.2;\n",
       "            border-radius: 0.25em; box-decoration-break: clone; -webkit-box-decoration-break: clone\">\n",
       "                cup\n",
       "            </mark>\n",
       "            \n",
       "            <mark class=\"entity\" style=\"background: #ff8080; padding: 0.15em 0.3em; margin: 0 0.2em; line-height: 2.2;\n",
       "            border-radius: 0.25em; box-decoration-break: clone; -webkit-box-decoration-break: clone\">\n",
       "                team\n",
       "            </mark>\n",
       "            \n",
       "            <mark class=\"entity\" style=\"background: #ffdede; padding: 0.15em 0.3em; margin: 0 0.2em; line-height: 2.2;\n",
       "            border-radius: 0.25em; box-decoration-break: clone; -webkit-box-decoration-break: clone\">\n",
       "                milwaukee\n",
       "            </mark>\n",
       "            \n",
       "            <mark class=\"entity\" style=\"background: #ffcccc; padding: 0.15em 0.3em; margin: 0 0.2em; line-height: 2.2;\n",
       "            border-radius: 0.25em; box-decoration-break: clone; -webkit-box-decoration-break: clone\">\n",
       "                (\n",
       "            </mark>\n",
       "            \n",
       "            <mark class=\"entity\" style=\"background: #ffdcdc; padding: 0.15em 0.3em; margin: 0 0.2em; line-height: 2.2;\n",
       "            border-radius: 0.25em; box-decoration-break: clone; -webkit-box-decoration-break: clone\">\n",
       "                sports\n",
       "            </mark>\n",
       "            \n",
       "            <mark class=\"entity\" style=\"background: #f7f7ff; padding: 0.15em 0.3em; margin: 0 0.2em; line-height: 2.2;\n",
       "            border-radius: 0.25em; box-decoration-break: clone; -webkit-box-decoration-break: clone\">\n",
       "                network\n",
       "            </mark>\n",
       "            \n",
       "            <mark class=\"entity\" style=\"background: #ffeeee; padding: 0.15em 0.3em; margin: 0 0.2em; line-height: 2.2;\n",
       "            border-radius: 0.25em; box-decoration-break: clone; -webkit-box-decoration-break: clone\">\n",
       "                )\n",
       "            </mark>\n",
       "            \n",
       "            <mark class=\"entity\" style=\"background: #ffdddd; padding: 0.15em 0.3em; margin: 0 0.2em; line-height: 2.2;\n",
       "            border-radius: 0.25em; box-decoration-break: clone; -webkit-box-decoration-break: clone\">\n",
       "                -\n",
       "            </mark>\n",
       "            \n",
       "            <mark class=\"entity\" style=\"background: #fffafa; padding: 0.15em 0.3em; margin: 0 0.2em; line-height: 2.2;\n",
       "            border-radius: 0.25em; box-decoration-break: clone; -webkit-box-decoration-break: clone\">\n",
       "                u\n",
       "            </mark>\n",
       "            \n",
       "            <mark class=\"entity\" style=\"background: #ffebeb; padding: 0.15em 0.3em; margin: 0 0.2em; line-height: 2.2;\n",
       "            border-radius: 0.25em; box-decoration-break: clone; -webkit-box-decoration-break: clone\">\n",
       "                .\n",
       "            </mark>\n",
       "            \n",
       "            <mark class=\"entity\" style=\"background: #ffdbdb; padding: 0.15em 0.3em; margin: 0 0.2em; line-height: 2.2;\n",
       "            border-radius: 0.25em; box-decoration-break: clone; -webkit-box-decoration-break: clone\">\n",
       "                s\n",
       "            </mark>\n",
       "            \n",
       "            <mark class=\"entity\" style=\"background: #ffe3e3; padding: 0.15em 0.3em; margin: 0 0.2em; line-height: 2.2;\n",
       "            border-radius: 0.25em; box-decoration-break: clone; -webkit-box-decoration-break: clone\">\n",
       "                .\n",
       "            </mark>\n",
       "            \n",
       "            <mark class=\"entity\" style=\"background: #ffe2e2; padding: 0.15em 0.3em; margin: 0 0.2em; line-height: 2.2;\n",
       "            border-radius: 0.25em; box-decoration-break: clone; -webkit-box-decoration-break: clone\">\n",
       "                ryder\n",
       "            </mark>\n",
       "            \n",
       "            <mark class=\"entity\" style=\"background: #ffcece; padding: 0.15em 0.3em; margin: 0 0.2em; line-height: 2.2;\n",
       "            border-radius: 0.25em; box-decoration-break: clone; -webkit-box-decoration-break: clone\">\n",
       "                cup\n",
       "            </mark>\n",
       "            \n",
       "            <mark class=\"entity\" style=\"background: #ffdfdf; padding: 0.15em 0.3em; margin: 0 0.2em; line-height: 2.2;\n",
       "            border-radius: 0.25em; box-decoration-break: clone; -webkit-box-decoration-break: clone\">\n",
       "                captain\n",
       "            </mark>\n",
       "            \n",
       "            <mark class=\"entity\" style=\"background: #ffecec; padding: 0.15em 0.3em; margin: 0 0.2em; line-height: 2.2;\n",
       "            border-radius: 0.25em; box-decoration-break: clone; -webkit-box-decoration-break: clone\">\n",
       "                hal\n",
       "            </mark>\n",
       "            \n",
       "            <mark class=\"entity\" style=\"background: #ffe7e7; padding: 0.15em 0.3em; margin: 0 0.2em; line-height: 2.2;\n",
       "            border-radius: 0.25em; box-decoration-break: clone; -webkit-box-decoration-break: clone\">\n",
       "                sutton\n",
       "            </mark>\n",
       "            \n",
       "            <mark class=\"entity\" style=\"background: #ffeded; padding: 0.15em 0.3em; margin: 0 0.2em; line-height: 2.2;\n",
       "            border-radius: 0.25em; box-decoration-break: clone; -webkit-box-decoration-break: clone\">\n",
       "                finalized\n",
       "            </mark>\n",
       "            \n",
       "            <mark class=\"entity\" style=\"background: #ffa6a6; padding: 0.15em 0.3em; margin: 0 0.2em; line-height: 2.2;\n",
       "            border-radius: 0.25em; box-decoration-break: clone; -webkit-box-decoration-break: clone\">\n",
       "                his\n",
       "            </mark>\n",
       "            \n",
       "            <mark class=\"entity\" style=\"background: #ff0000; padding: 0.15em 0.3em; margin: 0 0.2em; line-height: 2.2;\n",
       "            border-radius: 0.25em; box-decoration-break: clone; -webkit-box-decoration-break: clone\">\n",
       "                team\n",
       "            </mark>\n",
       "            \n",
       "            <mark class=\"entity\" style=\"background: #ffcbcb; padding: 0.15em 0.3em; margin: 0 0.2em; line-height: 2.2;\n",
       "            border-radius: 0.25em; box-decoration-break: clone; -webkit-box-decoration-break: clone\">\n",
       "                on\n",
       "            </mark>\n",
       "            \n",
       "            <mark class=\"entity\" style=\"background: #ffc6c6; padding: 0.15em 0.3em; margin: 0 0.2em; line-height: 2.2;\n",
       "            border-radius: 0.25em; box-decoration-break: clone; -webkit-box-decoration-break: clone\">\n",
       "                monday\n",
       "            </mark>\n",
       "            \n",
       "            <mark class=\"entity\" style=\"background: #ffb5b5; padding: 0.15em 0.3em; margin: 0 0.2em; line-height: 2.2;\n",
       "            border-radius: 0.25em; box-decoration-break: clone; -webkit-box-decoration-break: clone\">\n",
       "                when\n",
       "            </mark>\n",
       "            \n",
       "            <mark class=\"entity\" style=\"background: #ff2323; padding: 0.15em 0.3em; margin: 0 0.2em; line-height: 2.2;\n",
       "            border-radius: 0.25em; box-decoration-break: clone; -webkit-box-decoration-break: clone\">\n",
       "                he\n",
       "            </mark>\n",
       "            \n",
       "            <mark class=\"entity\" style=\"background: #ffc1c1; padding: 0.15em 0.3em; margin: 0 0.2em; line-height: 2.2;\n",
       "            border-radius: 0.25em; box-decoration-break: clone; -webkit-box-decoration-break: clone\">\n",
       "                announced\n",
       "            </mark>\n",
       "            \n",
       "            <mark class=\"entity\" style=\"background: #ffa9a9; padding: 0.15em 0.3em; margin: 0 0.2em; line-height: 2.2;\n",
       "            border-radius: 0.25em; box-decoration-break: clone; -webkit-box-decoration-break: clone\">\n",
       "                the\n",
       "            </mark>\n",
       "            \n",
       "            <mark class=\"entity\" style=\"background: #ffd1d1; padding: 0.15em 0.3em; margin: 0 0.2em; line-height: 2.2;\n",
       "            border-radius: 0.25em; box-decoration-break: clone; -webkit-box-decoration-break: clone\">\n",
       "                selections\n",
       "            </mark>\n",
       "            \n",
       "            <mark class=\"entity\" style=\"background: #ffd8d8; padding: 0.15em 0.3em; margin: 0 0.2em; line-height: 2.2;\n",
       "            border-radius: 0.25em; box-decoration-break: clone; -webkit-box-decoration-break: clone\">\n",
       "                of\n",
       "            </mark>\n",
       "            \n",
       "            <mark class=\"entity\" style=\"background: #fff3f3; padding: 0.15em 0.3em; margin: 0 0.2em; line-height: 2.2;\n",
       "            border-radius: 0.25em; box-decoration-break: clone; -webkit-box-decoration-break: clone\">\n",
       "                jay\n",
       "            </mark>\n",
       "            \n",
       "            <mark class=\"entity\" style=\"background: #fff3f3; padding: 0.15em 0.3em; margin: 0 0.2em; line-height: 2.2;\n",
       "            border-radius: 0.25em; box-decoration-break: clone; -webkit-box-decoration-break: clone\">\n",
       "                haas\n",
       "            </mark>\n",
       "            \n",
       "            <mark class=\"entity\" style=\"background: #ffd7d7; padding: 0.15em 0.3em; margin: 0 0.2em; line-height: 2.2;\n",
       "            border-radius: 0.25em; box-decoration-break: clone; -webkit-box-decoration-break: clone\">\n",
       "                and\n",
       "            </mark>\n",
       "            \n",
       "            <mark class=\"entity\" style=\"background: #ffc9c9; padding: 0.15em 0.3em; margin: 0 0.2em; line-height: 2.2;\n",
       "            border-radius: 0.25em; box-decoration-break: clone; -webkit-box-decoration-break: clone\">\n",
       "                stewart\n",
       "            </mark>\n",
       "            \n",
       "            <mark class=\"entity\" style=\"background: #ffebeb; padding: 0.15em 0.3em; margin: 0 0.2em; line-height: 2.2;\n",
       "            border-radius: 0.25em; box-decoration-break: clone; -webkit-box-decoration-break: clone\">\n",
       "                cink\n",
       "            </mark>\n",
       "            \n",
       "            <mark class=\"entity\" style=\"background: #ffdede; padding: 0.15em 0.3em; margin: 0 0.2em; line-height: 2.2;\n",
       "            border-radius: 0.25em; box-decoration-break: clone; -webkit-box-decoration-break: clone\">\n",
       "                as\n",
       "            </mark>\n",
       "            \n",
       "            <mark class=\"entity\" style=\"background: #ff8080; padding: 0.15em 0.3em; margin: 0 0.2em; line-height: 2.2;\n",
       "            border-radius: 0.25em; box-decoration-break: clone; -webkit-box-decoration-break: clone\">\n",
       "                his\n",
       "            </mark>\n",
       "            \n",
       "            <mark class=\"entity\" style=\"background: #ff4949; padding: 0.15em 0.3em; margin: 0 0.2em; line-height: 2.2;\n",
       "            border-radius: 0.25em; box-decoration-break: clone; -webkit-box-decoration-break: clone\">\n",
       "                captain\n",
       "            </mark>\n",
       "            \n",
       "            <mark class=\"entity\" style=\"background: #ff7272; padding: 0.15em 0.3em; margin: 0 0.2em; line-height: 2.2;\n",
       "            border-radius: 0.25em; box-decoration-break: clone; -webkit-box-decoration-break: clone\">\n",
       "                '\n",
       "            </mark>\n",
       "            \n",
       "            <mark class=\"entity\" style=\"background: #ff5656; padding: 0.15em 0.3em; margin: 0 0.2em; line-height: 2.2;\n",
       "            border-radius: 0.25em; box-decoration-break: clone; -webkit-box-decoration-break: clone\">\n",
       "                s\n",
       "            </mark>\n",
       "            \n",
       "            <mark class=\"entity\" style=\"background: #ff5454; padding: 0.15em 0.3em; margin: 0 0.2em; line-height: 2.2;\n",
       "            border-radius: 0.25em; box-decoration-break: clone; -webkit-box-decoration-break: clone\">\n",
       "                picks\n",
       "            </mark>\n",
       "            \n",
       "            <mark class=\"entity\" style=\"background: #d9d9ff; padding: 0.15em 0.3em; margin: 0 0.2em; line-height: 2.2;\n",
       "            border-radius: 0.25em; box-decoration-break: clone; -webkit-box-decoration-break: clone\">\n",
       "                .\n",
       "            </mark>\n",
       "            \n",
       "            <mark class=\"entity\" style=\"background: #ffffff; padding: 0.15em 0.3em; margin: 0 0.2em; line-height: 2.2;\n",
       "            border-radius: 0.25em; box-decoration-break: clone; -webkit-box-decoration-break: clone\">\n",
       "                [SEP]\n",
       "            </mark>\n",
       "            </div></span>"
      ],
      "text/plain": [
       "<IPython.core.display.HTML object>"
      ]
     },
     "metadata": {},
     "output_type": "display_data"
    }
   ],
   "source": [
    "import thermostat\n",
    "\n",
    "annotated_agnews = thermostat.load(\"ag_news-bert-lig\")\n",
    "agnews_instance = annotated_agnews[60]\n",
    "agnews_labels = {0: \"WORLD\", 1: \"SPORT\", 2: \"BUSINESS\", 3: \"SCIENCE & TECHNOLOGY\"}\n",
    "print(f\"Predicted label: {agnews_labels[imdb_instance.predicted_label_index]}\")\n",
    "agnews_instance.render()"
   ]
  },
  {
   "cell_type": "markdown",
   "metadata": {},
   "source": [
    "Many more pre-loaded examples are available on the [Thermostat Huggingface Demo](https://huggingface.co/spaces/nfel/Thermostat)."
   ]
  }
 ],
 "metadata": {
  "kernelspec": {
   "display_name": "Python 3 (ipykernel)",
   "language": "python",
   "name": "python3"
  },
  "language_info": {
   "codemirror_mode": {
    "name": "ipython",
    "version": 3
   },
   "file_extension": ".py",
   "mimetype": "text/x-python",
   "name": "python",
   "nbconvert_exporter": "python",
   "pygments_lexer": "ipython3",
   "version": "3.10.9"
  },
  "vscode": {
   "interpreter": {
    "hash": "5fd5de41c56f1363b4f2c92961d1aea4e026efb5134e6e5487c6cae66bd39229"
   }
  }
 },
 "nbformat": 4,
 "nbformat_minor": 4
}
